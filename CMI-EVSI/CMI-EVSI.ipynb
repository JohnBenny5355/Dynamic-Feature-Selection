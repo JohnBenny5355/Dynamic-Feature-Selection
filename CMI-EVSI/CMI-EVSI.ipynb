{
  "cells": [
    {
      "cell_type": "code",
      "source": [
        "from google.colab import drive\n",
        "drive.mount('/content/drive')"
      ],
      "metadata": {
        "colab": {
          "base_uri": "https://localhost:8080/"
        },
        "id": "wAv9K8EgbJyc",
        "outputId": "e25c3585-fd41-4fad-9bf6-6dacc591198f"
      },
      "id": "wAv9K8EgbJyc",
      "execution_count": null,
      "outputs": [
        {
          "output_type": "stream",
          "name": "stdout",
          "text": [
            "Mounted at /content/drive\n"
          ]
        }
      ]
    },
    {
      "cell_type": "code",
      "source": [
        "import sys\n",
        "sys.path.append('/content/drive/MyDrive')"
      ],
      "metadata": {
        "id": "YtRDazIRbIgl"
      },
      "id": "YtRDazIRbIgl",
      "execution_count": null,
      "outputs": []
    },
    {
      "cell_type": "code",
      "source": [
        "from sklearn.preprocessing import StandardScaler\n",
        "import seaborn as sns\n",
        "import matplotlib as mpl"
      ],
      "metadata": {
        "id": "q_OHjCqc4nuK"
      },
      "id": "q_OHjCqc4nuK",
      "execution_count": null,
      "outputs": []
    },
    {
      "cell_type": "markdown",
      "source": [
        "#Standard imports"
      ],
      "metadata": {
        "id": "i8CvfJqHurDI"
      },
      "id": "i8CvfJqHurDI"
    },
    {
      "cell_type": "code",
      "execution_count": null,
      "id": "b9b69012-5423-4418-9bb2-e85f353fb27b",
      "metadata": {
        "colab": {
          "base_uri": "https://localhost:8080/"
        },
        "id": "b9b69012-5423-4418-9bb2-e85f353fb27b",
        "outputId": "5afff0f8-98ec-478d-b31c-176a0ca47fa0"
      },
      "outputs": [
        {
          "output_type": "stream",
          "name": "stdout",
          "text": [
            "Collecting pytorch_lightning\n",
            "  Downloading pytorch_lightning-2.0.7-py3-none-any.whl (724 kB)\n",
            "\u001b[2K     \u001b[90m━━━━━━━━━━━━━━━━━━━━━━━━━━━━━━━━━━━━━━━\u001b[0m \u001b[32m725.0/725.0 kB\u001b[0m \u001b[31m7.0 MB/s\u001b[0m eta \u001b[36m0:00:00\u001b[0m\n",
            "\u001b[?25hRequirement already satisfied: numpy>=1.17.2 in /usr/local/lib/python3.10/dist-packages (from pytorch_lightning) (1.23.5)\n",
            "Requirement already satisfied: torch>=1.11.0 in /usr/local/lib/python3.10/dist-packages (from pytorch_lightning) (2.0.1+cu118)\n",
            "Requirement already satisfied: tqdm>=4.57.0 in /usr/local/lib/python3.10/dist-packages (from pytorch_lightning) (4.66.1)\n",
            "Requirement already satisfied: PyYAML>=5.4 in /usr/local/lib/python3.10/dist-packages (from pytorch_lightning) (6.0.1)\n",
            "Requirement already satisfied: fsspec[http]>2021.06.0 in /usr/local/lib/python3.10/dist-packages (from pytorch_lightning) (2023.6.0)\n",
            "Collecting torchmetrics>=0.7.0 (from pytorch_lightning)\n",
            "  Downloading torchmetrics-1.1.0-py3-none-any.whl (761 kB)\n",
            "\u001b[2K     \u001b[90m━━━━━━━━━━━━━━━━━━━━━━━━━━━━━━━━━━━━━━\u001b[0m \u001b[32m761.3/761.3 kB\u001b[0m \u001b[31m11.5 MB/s\u001b[0m eta \u001b[36m0:00:00\u001b[0m\n",
            "\u001b[?25hRequirement already satisfied: packaging>=17.1 in /usr/local/lib/python3.10/dist-packages (from pytorch_lightning) (23.1)\n",
            "Requirement already satisfied: typing-extensions>=4.0.0 in /usr/local/lib/python3.10/dist-packages (from pytorch_lightning) (4.7.1)\n",
            "Collecting lightning-utilities>=0.7.0 (from pytorch_lightning)\n",
            "  Downloading lightning_utilities-0.9.0-py3-none-any.whl (23 kB)\n",
            "Requirement already satisfied: requests in /usr/local/lib/python3.10/dist-packages (from fsspec[http]>2021.06.0->pytorch_lightning) (2.31.0)\n",
            "Requirement already satisfied: aiohttp!=4.0.0a0,!=4.0.0a1 in /usr/local/lib/python3.10/dist-packages (from fsspec[http]>2021.06.0->pytorch_lightning) (3.8.5)\n",
            "Requirement already satisfied: filelock in /usr/local/lib/python3.10/dist-packages (from torch>=1.11.0->pytorch_lightning) (3.12.2)\n",
            "Requirement already satisfied: sympy in /usr/local/lib/python3.10/dist-packages (from torch>=1.11.0->pytorch_lightning) (1.12)\n",
            "Requirement already satisfied: networkx in /usr/local/lib/python3.10/dist-packages (from torch>=1.11.0->pytorch_lightning) (3.1)\n",
            "Requirement already satisfied: jinja2 in /usr/local/lib/python3.10/dist-packages (from torch>=1.11.0->pytorch_lightning) (3.1.2)\n",
            "Requirement already satisfied: triton==2.0.0 in /usr/local/lib/python3.10/dist-packages (from torch>=1.11.0->pytorch_lightning) (2.0.0)\n",
            "Requirement already satisfied: cmake in /usr/local/lib/python3.10/dist-packages (from triton==2.0.0->torch>=1.11.0->pytorch_lightning) (3.27.2)\n",
            "Requirement already satisfied: lit in /usr/local/lib/python3.10/dist-packages (from triton==2.0.0->torch>=1.11.0->pytorch_lightning) (16.0.6)\n",
            "Requirement already satisfied: attrs>=17.3.0 in /usr/local/lib/python3.10/dist-packages (from aiohttp!=4.0.0a0,!=4.0.0a1->fsspec[http]>2021.06.0->pytorch_lightning) (23.1.0)\n",
            "Requirement already satisfied: charset-normalizer<4.0,>=2.0 in /usr/local/lib/python3.10/dist-packages (from aiohttp!=4.0.0a0,!=4.0.0a1->fsspec[http]>2021.06.0->pytorch_lightning) (3.2.0)\n",
            "Requirement already satisfied: multidict<7.0,>=4.5 in /usr/local/lib/python3.10/dist-packages (from aiohttp!=4.0.0a0,!=4.0.0a1->fsspec[http]>2021.06.0->pytorch_lightning) (6.0.4)\n",
            "Requirement already satisfied: async-timeout<5.0,>=4.0.0a3 in /usr/local/lib/python3.10/dist-packages (from aiohttp!=4.0.0a0,!=4.0.0a1->fsspec[http]>2021.06.0->pytorch_lightning) (4.0.3)\n",
            "Requirement already satisfied: yarl<2.0,>=1.0 in /usr/local/lib/python3.10/dist-packages (from aiohttp!=4.0.0a0,!=4.0.0a1->fsspec[http]>2021.06.0->pytorch_lightning) (1.9.2)\n",
            "Requirement already satisfied: frozenlist>=1.1.1 in /usr/local/lib/python3.10/dist-packages (from aiohttp!=4.0.0a0,!=4.0.0a1->fsspec[http]>2021.06.0->pytorch_lightning) (1.4.0)\n",
            "Requirement already satisfied: aiosignal>=1.1.2 in /usr/local/lib/python3.10/dist-packages (from aiohttp!=4.0.0a0,!=4.0.0a1->fsspec[http]>2021.06.0->pytorch_lightning) (1.3.1)\n",
            "Requirement already satisfied: MarkupSafe>=2.0 in /usr/local/lib/python3.10/dist-packages (from jinja2->torch>=1.11.0->pytorch_lightning) (2.1.3)\n",
            "Requirement already satisfied: idna<4,>=2.5 in /usr/local/lib/python3.10/dist-packages (from requests->fsspec[http]>2021.06.0->pytorch_lightning) (3.4)\n",
            "Requirement already satisfied: urllib3<3,>=1.21.1 in /usr/local/lib/python3.10/dist-packages (from requests->fsspec[http]>2021.06.0->pytorch_lightning) (2.0.4)\n",
            "Requirement already satisfied: certifi>=2017.4.17 in /usr/local/lib/python3.10/dist-packages (from requests->fsspec[http]>2021.06.0->pytorch_lightning) (2023.7.22)\n",
            "Requirement already satisfied: mpmath>=0.19 in /usr/local/lib/python3.10/dist-packages (from sympy->torch>=1.11.0->pytorch_lightning) (1.3.0)\n",
            "Installing collected packages: lightning-utilities, torchmetrics, pytorch_lightning\n",
            "Successfully installed lightning-utilities-0.9.0 pytorch_lightning-2.0.7 torchmetrics-1.1.0\n"
          ]
        }
      ],
      "source": [
        "!pip install pytorch_lightning\n",
        "import torch\n",
        "import numpy as np\n",
        "import torch.nn as nn\n",
        "import dynamic_selection as ds\n",
        "import matplotlib.pyplot as plt\n",
        "from torch.utils.data import DataLoader,Subset, TensorDataset\n",
        "from torchmetrics import Accuracy, AUROC\n",
        "from dynamic_selection import MaskingPretrainer, GreedyDynamicSelection,BaseModel\n",
        "import pandas as pd"
      ]
    },
    {
      "cell_type": "markdown",
      "source": [
        "#Dataset"
      ],
      "metadata": {
        "id": "4bTK9eWiuzcM"
      },
      "id": "4bTK9eWiuzcM"
    },
    {
      "cell_type": "code",
      "execution_count": null,
      "id": "a8de7c64-00d3-473b-9045-06c892fda53d",
      "metadata": {
        "id": "a8de7c64-00d3-473b-9045-06c892fda53d"
      },
      "outputs": [],
      "source": [
        "# Load dataset.\n",
        "dataset = ds.data.load_spam()\n",
        "d_in = dataset.input_size    # 57\n",
        "d_out = dataset.output_size  # 2\n",
        "# Normalize and split dataset.\n",
        "mean = dataset.tensors[0].mean(dim=0)\n",
        "dataset.tensors = (dataset.tensors[0] - mean, dataset.tensors[1])\n",
        "train_dataset, val_dataset, test_dataset = ds.data.data_split(dataset)"
      ]
    },
    {
      "cell_type": "code",
      "execution_count": null,
      "id": "3c540621-e149-4a18-8106-8bf11b6e0a8c",
      "metadata": {
        "id": "3c540621-e149-4a18-8106-8bf11b6e0a8c"
      },
      "outputs": [],
      "source": [
        "# Prepare dataloaders.\n",
        "train_loader = DataLoader(train_dataset, batch_size=128, shuffle=True, pin_memory=True, drop_last=True)\n",
        "val_loader = DataLoader(val_dataset, batch_size=1024, pin_memory=True)\n",
        "test_loader = DataLoader(test_dataset, batch_size=1024, pin_memory=True)"
      ]
    },
    {
      "cell_type": "markdown",
      "source": [
        "#Networks"
      ],
      "metadata": {
        "id": "45BOibwzumPZ"
      },
      "id": "45BOibwzumPZ"
    },
    {
      "cell_type": "code",
      "execution_count": null,
      "id": "c4335579-92bf-4ff6-95d0-513a923d5694",
      "metadata": {
        "id": "c4335579-92bf-4ff6-95d0-513a923d5694"
      },
      "outputs": [],
      "source": [
        "# Set up networks\n",
        "hidden = 128\n",
        "dropout = 0.3\n",
        "\n",
        "predictor = nn.Sequential(\n",
        "    nn.Linear(2 * d_in, hidden),\n",
        "    nn.ReLU(),\n",
        "    nn.Dropout(dropout),\n",
        "    nn.Linear(hidden, hidden),\n",
        "    nn.ReLU(),\n",
        "    nn.Dropout(dropout),\n",
        "    nn.Linear(hidden, d_out))\n",
        "\n",
        "selector = nn.Sequential(\n",
        "    nn.Linear(2 * d_in, hidden),\n",
        "    nn.ReLU(),\n",
        "    nn.Dropout(dropout),\n",
        "    nn.Linear(hidden, hidden),\n",
        "    nn.ReLU(),\n",
        "    nn.Dropout(dropout),\n",
        "    nn.Linear(hidden, d_in))"
      ]
    },
    {
      "cell_type": "code",
      "execution_count": null,
      "id": "0d9c9d72-e3bb-4d68-b2f9-fa9747c8bb5f",
      "metadata": {
        "colab": {
          "base_uri": "https://localhost:8080/"
        },
        "id": "0d9c9d72-e3bb-4d68-b2f9-fa9747c8bb5f",
        "outputId": "bb17376e-7192-458d-a966-4fc68b633d0d"
      },
      "outputs": [
        {
          "output_type": "stream",
          "name": "stdout",
          "text": [
            "--------Epoch 1--------\n",
            "Val loss = 1.0591\n",
            "\n",
            "--------Epoch 2--------\n",
            "Val loss = 1.0212\n",
            "\n",
            "--------Epoch 3--------\n",
            "Val loss = 0.9838\n",
            "\n",
            "--------Epoch 4--------\n",
            "Val loss = 0.9765\n",
            "\n",
            "--------Epoch 5--------\n",
            "Val loss = 0.9687\n",
            "\n",
            "--------Epoch 6--------\n",
            "Val loss = 0.9647\n",
            "\n",
            "--------Epoch 7--------\n",
            "Val loss = 0.9658\n",
            "\n",
            "--------Epoch 8--------\n",
            "Val loss = 0.9603\n",
            "\n",
            "--------Epoch 9--------\n",
            "Val loss = 0.9600\n",
            "\n",
            "--------Epoch 10--------\n",
            "Val loss = 0.9519\n",
            "\n",
            "--------Epoch 11--------\n",
            "Val loss = 0.9535\n",
            "\n",
            "--------Epoch 12--------\n",
            "Val loss = 0.9569\n",
            "\n",
            "--------Epoch 13--------\n",
            "Val loss = 0.9555\n",
            "\n",
            "Epoch 00013: reducing learning rate of group 0 to 2.0000e-04.\n",
            "--------Epoch 14--------\n",
            "Val loss = 0.9402\n",
            "\n",
            "--------Epoch 15--------\n",
            "Val loss = 0.9339\n",
            "\n"
          ]
        }
      ],
      "source": [
        "# Pretrain predictor.\n",
        "mask_layer = ds.utils.MaskLayer(append=True)\n",
        "pretrain = MaskingPretrainer(predictor, mask_layer).cuda()\n",
        "pretrain.fit(\n",
        "    train_loader,\n",
        "    val_loader,\n",
        "    lr=1e-3,\n",
        "    nepochs=15,#100\n",
        "    loss_fn=nn.CrossEntropyLoss(),\n",
        "    verbose=True)"
      ]
    },
    {
      "cell_type": "code",
      "execution_count": null,
      "id": "c9a8c6e7-6234-4154-b95d-8811905a0b50",
      "metadata": {
        "id": "c9a8c6e7-6234-4154-b95d-8811905a0b50",
        "outputId": "dd67b782-080a-40bd-bad5-e09e8e356fa9",
        "colab": {
          "base_uri": "https://localhost:8080/"
        }
      },
      "outputs": [
        {
          "output_type": "stream",
          "name": "stdout",
          "text": [
            "Starting training with temp = 0.3000\n",
            "\n",
            "epoch is 0\n",
            "\n",
            "--------Epoch 1 (1 total)--------\n",
            "Val loss = 0.5379, Zero-temp loss = 0.5374\n",
            "\n",
            "epoch is 1\n",
            "\n",
            "--------Epoch 2 (2 total)--------\n",
            "Val loss = 0.4535, Zero-temp loss = 0.4532\n",
            "\n",
            "Stopping temp = 0.3000 at epoch 2\n",
            "\n"
          ]
        }
      ],
      "source": [
        "# Train selector and predictor jointly.\n",
        "gdfs = GreedyDynamicSelection(selector, predictor, mask_layer).cuda()\n",
        "gdfs.fit(\n",
        "    train_loader,\n",
        "    val_loader,\n",
        "    lr=1e-3,\n",
        "    nepochs=2,#250\n",
        "    start_temp=0.3,\n",
        "    temp_steps=1,\n",
        "    max_features=35,\n",
        "    loss_fn=nn.CrossEntropyLoss(),\n",
        "    verbose=True)"
      ]
    },
    {
      "cell_type": "markdown",
      "id": "425f0935-8f4e-417d-8344-5c125a8b26e5",
      "metadata": {
        "id": "425f0935-8f4e-417d-8344-5c125a8b26e5"
      },
      "source": [
        "# Evaluate performance\n",
        "\n",
        "- AUROC and top-1 accuracy increase quickly with the number of selections\n",
        "- Performance can often be improved by increasing the `patience` parameter, or increasing the number of temperature steps (`temp_steps`)"
      ]
    },
    {
      "cell_type": "code",
      "execution_count": null,
      "id": "61a8bb95-483d-45b6-896a-c585a6bd338c",
      "metadata": {
        "id": "61a8bb95-483d-45b6-896a-c585a6bd338c",
        "colab": {
          "base_uri": "https://localhost:8080/"
        },
        "outputId": "cc8c09f5-2f97-4cc9-a0b5-55b2f923a720"
      },
      "outputs": [
        {
          "output_type": "stream",
          "name": "stdout",
          "text": [
            "Num = 1, AUROC = 87.46, Acc = 76.84\n",
            "Num = 2, AUROC = 87.16, Acc = 69.55\n",
            "Num = 3, AUROC = 87.08, Acc = 71.58\n",
            "Num = 4, AUROC = 88.62, Acc = 73.86\n",
            "Num = 5, AUROC = 89.06, Acc = 73.70\n",
            "Num = 6, AUROC = 89.21, Acc = 76.77\n",
            "Num = 7, AUROC = 88.99, Acc = 74.22\n",
            "Num = 8, AUROC = 89.36, Acc = 74.72\n",
            "Num = 9, AUROC = 89.73, Acc = 76.13\n",
            "Num = 10, AUROC = 90.72, Acc = 76.17\n",
            "Num = 15, AUROC = 94.10, Acc = 80.15\n",
            "Num = 20, AUROC = 95.02, Acc = 81.47\n",
            "Num = 25, AUROC = 94.77, Acc = 79.94\n"
          ]
        }
      ],
      "source": [
        "# For saving results.\n",
        "num_features = list(range(1, 11)) + list(range(15, 30, 5))\n",
        "auroc_list = []\n",
        "acc_list = []\n",
        "\n",
        "# Metrics (softmax is applied automatically in recent versions of torchmetrics).\n",
        "auroc_metric = lambda pred, y: AUROC(task='multiclass', num_classes=d_out)(pred.softmax(dim=1), y)\n",
        "acc_metric = Accuracy(task='multiclass', num_classes=d_out)\n",
        "\n",
        "# Evaluate.\n",
        "for num in num_features:\n",
        "    auroc, acc = gdfs.evaluate(test_loader, num, (auroc_metric, acc_metric))\n",
        "    auroc_list.append(auroc)\n",
        "    acc_list.append(acc)\n",
        "    print(f'Num = {num}, AUROC = {100*auroc:.2f}, Acc = {100*acc:.2f}')"
      ]
    },
    {
      "cell_type": "code",
      "execution_count": null,
      "id": "5f726829-cd23-44f7-a1c3-eb4d0756a38c",
      "metadata": {
        "id": "5f726829-cd23-44f7-a1c3-eb4d0756a38c",
        "colab": {
          "base_uri": "https://localhost:8080/"
        },
        "outputId": "fc77fd7b-d46c-44f8-f111-a5d20592e061"
      },
      "outputs": [
        {
          "output_type": "display_data",
          "data": {
            "text/plain": [
              "<Figure size 1800x600 with 2 Axes>"
            ],
            "image/png": "[encoded data removed]"
          },
          "metadata": {}
        }
      ],
      "source": [
        "# Plot results\n",
        "fig, axarr = plt.subplots(1, 2, figsize=(18, 6))\n",
        "\n",
        "# AUROC\n",
        "plt.sca(axarr[0])\n",
        "plt.plot(num_features, auroc_list, marker='o')\n",
        "plt.xlabel('# Features', fontsize=16)\n",
        "plt.ylabel('AUROC', fontsize=16)\n",
        "plt.title('AUROC vs. Feature Budget', fontsize=18)\n",
        "plt.tick_params(labelsize=14)\n",
        "plt.gca().spines['right'].set_visible(False)\n",
        "plt.gca().spines['top'].set_visible(False)\n",
        "\n",
        "# Accuracy\n",
        "plt.sca(axarr[1])\n",
        "plt.plot(num_features, acc_list, marker='o')\n",
        "plt.xlabel('# Features', fontsize=16)\n",
        "plt.ylabel('Accuracy', fontsize=16)\n",
        "plt.title('Accuracy vs. Feature Budget', fontsize=18)\n",
        "plt.tick_params(labelsize=14)\n",
        "plt.gca().spines['right'].set_visible(False)\n",
        "plt.gca().spines['top'].set_visible(False)\n",
        "\n",
        "plt.tight_layout()\n",
        "plt.show()"
      ]
    },
    {
      "cell_type": "markdown",
      "id": "af1d7d6d-f061-445b-9d4f-537e1c143f47",
      "metadata": {
        "id": "af1d7d6d-f061-445b-9d4f-537e1c143f47"
      },
      "source": [
        "# Plot selections"
      ]
    },
    {
      "cell_type": "code",
      "execution_count": null,
      "id": "e5f4b426-b5db-457f-9b52-3a6740422499",
      "metadata": {
        "id": "e5f4b426-b5db-457f-9b52-3a6740422499",
        "colab": {
          "base_uri": "https://localhost:8080/"
        },
        "outputId": "9e8a74c7-991a-4c20-f15c-9892eea83ca6"
      },
      "outputs": [
        {
          "output_type": "stream",
          "name": "stdout",
          "text": [
            "10\n",
            "\n",
            "\n",
            " P is \n",
            "\n",
            "tensor([0.0229, 0.0978, 0.0000, 0.4588, 1.0000, 0.0000, 0.0000, 0.0000, 1.0000,\n",
            "        0.9330, 1.0000, 0.0000, 0.9846, 0.9999, 1.0000, 0.3108, 0.0903, 0.0000,\n",
            "        0.0000, 0.0000, 0.0000, 0.0000, 0.0000, 1.0000, 0.0000, 0.0000, 0.0000,\n",
            "        0.3031, 0.0000, 0.0000, 0.0000, 0.0000, 0.7988, 0.0000],\n",
            "       device='cuda:0')\n",
            "[array([0.0229119 , 0.0978203 , 0.        , 0.45875448, 1.        ,\n",
            "       0.        , 0.        , 0.        , 1.        , 0.93303496,\n",
            "       1.        , 0.        , 0.98464614, 0.99991804, 1.        ,\n",
            "       0.3108231 , 0.09027863, 0.        , 0.        , 0.        ,\n",
            "       0.        , 0.        , 0.        , 0.9999508 , 0.        ,\n",
            "       0.        , 0.        , 0.30305192, 0.        , 0.        ,\n",
            "       0.        , 0.        , 0.7988097 , 0.        ], dtype=float32)]\n"
          ]
        }
      ],
      "source": [
        "# Generate selections for entire test set.\n",
        "num_features = range(1, 26)\n",
        "p_list = []\n",
        "#for num in num_features:\n",
        "print(str(10)+'\\n')\n",
        "x, y = ds.data.get_xy(test_dataset)\n",
        "x_np=x.numpy()\n",
        "x_test_df=pd.DataFrame(x_np)\n",
        "pred, x_masked, m = gdfs(x.cuda(), max_features=10)\n",
        "p = m.mean(dim=0)\n",
        "print('\\n P is \\n')\n",
        "p_list.append(p.cpu().numpy())\n",
        "print(p)\n",
        "print(p_list)"
      ]
    },
    {
      "cell_type": "markdown",
      "source": [
        "# Get Sensors"
      ],
      "metadata": {
        "id": "_XepjcRaZ8G7"
      },
      "id": "_XepjcRaZ8G7"
    },
    {
      "cell_type": "code",
      "source": [
        "sensors_index=np.array(p_list)\n",
        "sorted_indices = np.flip(np.argsort(sensors_index))\n",
        "sensors=[]\n",
        "for i in range(0,10):\n",
        "  sensors = np.append(sensors, dataset.features[sorted_indices[0][i]])\n",
        "sensors=sensors.tolist()\n",
        "sorted_indices=sorted_indices[0][0:10].tolist()\n",
        "sensors"
      ],
      "metadata": {
        "colab": {
          "base_uri": "https://localhost:8080/"
        },
        "id": "WohEbCgnjBUA",
        "outputId": "16720b30-d702-4b02-8605-0450e0420d90"
      },
      "id": "WohEbCgnjBUA",
      "execution_count": null,
      "outputs": [
        {
          "output_type": "execute_result",
          "data": {
            "text/plain": [
              "['<BattSoc>',\n",
              " '<BattV>',\n",
              " '<EngSpd>',\n",
              " '<WgAreaPct>',\n",
              " 'Cltch1Cmd',\n",
              " '<ThrPosPct>',\n",
              " '<EngTrq>',\n",
              " '<TransGear>',\n",
              " 'FuelMainSoi',\n",
              " '<xdot>']"
            ]
          },
          "metadata": {},
          "execution_count": 13
        }
      ]
    },
    {
      "cell_type": "markdown",
      "source": [
        "#calculate Prior"
      ],
      "metadata": {
        "id": "F1a8pqR0aCSX"
      },
      "id": "F1a8pqR0aCSX"
    },
    {
      "cell_type": "code",
      "source": [
        "cost_false_positive = 2\n",
        "cost_false_negative = 16\n",
        "\n",
        "x , y_train_tensor = ds.data.get_xy(train_dataset)\n",
        "x_np=x.numpy()\n",
        "x_train_df=pd.DataFrame.from_records(x_np)\n",
        "unique_elements, counts = torch.unique(y, return_counts=True)\n",
        "for i in range(unique_elements.size(0)):\n",
        "  if unique_elements[i]==0:\n",
        "    non_fault = counts[i]\n",
        "    break\n",
        "total = torch.sum(counts)\n",
        "\n",
        "x , y_val_tensor = ds.data.get_xy(val_dataset)\n",
        "x_np=x.numpy()\n",
        "x_cv_df=pd.DataFrame.from_records(x_np)\n",
        "unique_elements, counts = torch.unique(y, return_counts=True)\n",
        "for i in range(unique_elements.size(0)):\n",
        "  if unique_elements[i]==0:\n",
        "    non_fault += counts[i]\n",
        "total += torch.sum(counts)\n",
        "\n",
        "P_present = non_fault/total\n",
        "P_absent = 1 - P_present"
      ],
      "metadata": {
        "id": "sB-rBTaltBeD"
      },
      "id": "sB-rBTaltBeD",
      "execution_count": null,
      "outputs": []
    },
    {
      "cell_type": "markdown",
      "source": [
        "#Utility Functions"
      ],
      "metadata": {
        "id": "OQTxeUyoaJWc"
      },
      "id": "OQTxeUyoaJWc"
    },
    {
      "cell_type": "code",
      "source": [
        "def feature_remover(features_names):\n",
        "    # remove a list of features from x\n",
        "\n",
        "    dimension = dict()\n",
        "\n",
        "    # row dimension\n",
        "    dimension['train_row'] = len(x_train_df)\n",
        "    dimension['test_row'] = len(x_test_df)\n",
        "    dimension['cv_row'] = len(x_cv_df)\n",
        "\n",
        "    # create a copy so we don't change the original dataframe\n",
        "    x_train_masked_df = x_train_df.copy()\n",
        "    x_test_masked_df = x_test_df.copy()\n",
        "    x_cv_masked_df = x_cv_df.copy()\n",
        "\n",
        "    for feature in features_names:\n",
        "        x_train_masked_df.drop([feature], axis = 1, inplace = True)\n",
        "        x_test_masked_df.drop([feature], axis = 1, inplace = True)\n",
        "        x_cv_masked_df.drop([feature], axis = 1, inplace = True)\n",
        "\n",
        "    # column dimension\n",
        "    dimension['train_col'] = x_train_masked_df.shape[1]\n",
        "    dimension['test_col'] = x_test_masked_df.shape[1]\n",
        "    dimension['cv_col'] = x_cv_masked_df.shape[1]\n",
        "\n",
        "    standard_scalar = StandardScaler()\n",
        "    x_train_masked_df = standard_scalar.fit_transform(x_train_masked_df)\n",
        "    x_test_masked_df = standard_scalar.transform(x_test_masked_df)\n",
        "    x_cv_masked_df = standard_scalar.transform(x_cv_masked_df)\n",
        "\n",
        "\n",
        "    x_train = np.resize(x_train_masked_df, (dimension['train_row'], dimension['train_col'], 1))\n",
        "    x_test = np.resize(x_test_masked_df, (dimension['test_row'], dimension['test_col'], 1))\n",
        "    x_cv = np.resize(x_cv_masked_df, (dimension['cv_row'], dimension['cv_col'], 1))\n",
        "\n",
        "    return dimension, x_train, x_test, x_cv"
      ],
      "metadata": {
        "id": "6YtErg5uQQPj"
      },
      "id": "6YtErg5uQQPj",
      "execution_count": null,
      "outputs": []
    },
    {
      "cell_type": "code",
      "source": [
        "# helper function to calculate probability of correctly giving signal when present\n",
        "def get_signal_present(prediction, ground_truth):\n",
        "    present_index = list()\n",
        "    for i in range(len(ground_truth)):\n",
        "        if ground_truth[i] == 0:\n",
        "            present_index.append(i)\n",
        "\n",
        "    counter = 0\n",
        "    for index in present_index:\n",
        "        if prediction[index] == 0:\n",
        "            counter += 1\n",
        "\n",
        "    return counter/len(present_index)\n",
        "\n",
        "# helper function to calculate probability of correctly giving signal when present\n",
        "# there should be a more generic way using operator module to merge this with the one above.\n",
        "def get_no_signal_absent(prediction, ground_truth):\n",
        "    absent_index = list()\n",
        "    for i in range(len(ground_truth)):\n",
        "        if ground_truth[i] != 0:\n",
        "            absent_index.append(i)\n",
        "\n",
        "    counter = 0\n",
        "    for index in absent_index:\n",
        "        if prediction[index] != 0:\n",
        "            counter += 1\n",
        "    return counter/len(absent_index)"
      ],
      "metadata": {
        "id": "H8dHHK8VQRGv"
      },
      "id": "H8dHHK8VQRGv",
      "execution_count": null,
      "outputs": []
    },
    {
      "cell_type": "code",
      "source": [
        "def get_expected_cost(prediction,GT_tensor):\n",
        "  # get P(signal|present) and P(no signal|absent)\n",
        "    ground_truth = GT_tensor.tolist()\n",
        "    P_signal_present = get_signal_present(prediction, ground_truth)\n",
        "    P_no_signal_absent = get_no_signal_absent(prediction, ground_truth)\n",
        "    P_signal_absent = 1 - P_no_signal_absent\n",
        "    P_no_signal_present = 1 - P_signal_present\n",
        "\n",
        "  # get P(signal)\n",
        "    P_signal = P_present * P_signal_present + P_absent * P_signal_absent\n",
        "    P_no_signal = 1 - P_signal\n",
        "\n",
        "  # bayesian probability\n",
        "    P_absent_signal = (P_signal_absent * P_absent) / P_signal\n",
        "    P_present_signal = (P_signal_present * P_present) / P_signal\n",
        "    P_absent_no_signal = (P_no_signal_absent * P_absent) / P_no_signal\n",
        "    P_present_no_signal = (P_no_signal_present * P_present) / P_no_signal\n",
        "\n",
        "  #calculate the evoi\n",
        "    evoi = P_signal * min(cost_false_positive * P_absent_signal, cost_false_negative * P_present_signal) + P_no_signal * min(cost_false_positive * P_absent_no_signal, cost_false_negative * P_present_no_signal)\n",
        "\n",
        "    return evoi"
      ],
      "metadata": {
        "id": "fvFo3r1ZQUFf"
      },
      "id": "fvFo3r1ZQUFf",
      "execution_count": null,
      "outputs": []
    },
    {
      "cell_type": "code",
      "source": [
        "def plot_dict(dictionary):\n",
        "    x, y = [], []\n",
        "    for key, value in dictionary.items():\n",
        "        x.append(key)\n",
        "        y.append(value)\n",
        "    return x, y"
      ],
      "metadata": {
        "id": "J-Z09M8fQbB4"
      },
      "id": "J-Z09M8fQbB4",
      "execution_count": null,
      "outputs": []
    },
    {
      "cell_type": "markdown",
      "source": [
        "#Train with all selected signals"
      ],
      "metadata": {
        "id": "73J0KwMw0KRI"
      },
      "id": "73J0KwMw0KRI"
    },
    {
      "cell_type": "code",
      "source": [
        "predictor_Base = nn.Sequential(\n",
        "    nn.Linear( 10, hidden),\n",
        "    nn.ReLU(),\n",
        "    nn.Dropout(dropout),\n",
        "    nn.Linear(hidden, hidden),\n",
        "    nn.ReLU(),\n",
        "    nn.Dropout(dropout),\n",
        "    nn.Linear(hidden, 3))"
      ],
      "metadata": {
        "id": "gDZQSJBb0Ax3"
      },
      "id": "gDZQSJBb0Ax3",
      "execution_count": null,
      "outputs": []
    },
    {
      "cell_type": "code",
      "source": [
        "_ , y = ds.data.get_xy(test_dataset)\n",
        "base_prediction = (pred.cpu()).detach().numpy()\n",
        "base_prediction = np.argmax(base_prediction, axis=-1)\n",
        "base_cost = get_expected_cost(base_prediction,y).item()"
      ],
      "metadata": {
        "id": "CLw_BOWB0PyN"
      },
      "id": "CLw_BOWB0PyN",
      "execution_count": null,
      "outputs": []
    },
    {
      "cell_type": "markdown",
      "source": [
        "#Train without Selected Signals"
      ],
      "metadata": {
        "id": "OeSpT3mfaego"
      },
      "id": "OeSpT3mfaego"
    },
    {
      "cell_type": "code",
      "source": [
        "predictor_EVSI = nn.Sequential(\n",
        "    nn.Linear( 9, hidden),\n",
        "    nn.ReLU(),\n",
        "    nn.Dropout(dropout),\n",
        "    nn.Linear(hidden, hidden),\n",
        "    nn.ReLU(),\n",
        "    nn.Dropout(dropout),\n",
        "    nn.Linear(hidden, 3))\n"
      ],
      "metadata": {
        "id": "-cMn7cIQ3n3R"
      },
      "id": "-cMn7cIQ3n3R",
      "execution_count": null,
      "outputs": []
    },
    {
      "cell_type": "code",
      "source": [
        "upper_dict = dict()\n",
        "column_names=(dataset.features).tolist()\n",
        "x_train_df.columns=column_names\n",
        "x_test_df.columns=column_names\n",
        "x_cv_df.columns=column_names\n",
        "for indice,sensor in zip(sorted_indices,sensors):\n",
        "    remove_indices = sorted_indices.copy()\n",
        "    remove_indices.remove(indice)\n",
        "\n",
        "    #dimension, x_train, x_test, x_cv = feature_remover(features_names = remove_sensors)\n",
        "    x, y = ds.data.get_xy(train_dataset)\n",
        "    selected_columns = torch.index_select(x, 1, torch.tensor(remove_indices))\n",
        "    dataset_train_EVSI = TensorDataset(selected_columns,y)\n",
        "    dataloader_train = DataLoader(dataset_train_EVSI, batch_size=128, shuffle=False, pin_memory=True, drop_last=True)\n",
        "\n",
        "    x, y = ds.data.get_xy(val_dataset)\n",
        "    selected_columns = torch.index_select(x, 1, torch.tensor(remove_indices))\n",
        "    dataset_val_EVSI = TensorDataset(selected_columns,y)\n",
        "    dataloader_val = DataLoader(dataset_val_EVSI, batch_size=128, shuffle=False)\n",
        "\n",
        "    #dataset_test_EVSI = TensorDataset(torch.from_numpy(x_cv))\n",
        "    #dataloader_test = DataLoader(dataset_test_EVSI, batch_size=128, shuffle=False)\n",
        "\n",
        "    model_EVSI = BaseModel(predictor_EVSI).cuda()\n",
        "    model_EVSI.fit(dataloader_train,dataloader_val,lr=1e-3,nepochs=2,loss_fn=nn.CrossEntropyLoss(),verbose=True)\n",
        "\n",
        "    x , y = ds.data.get_xy(test_dataset)\n",
        "    selected_columns = torch.index_select(x, 1, torch.tensor(remove_indices))\n",
        "    #dataset_test_EVSI = TensorDataset(selected_columns,y)\n",
        "    #dataloader_val = DataLoader(dataset_val_EVSI, batch_size=128, shuffle=False)\n",
        "    upper_prediction1 = model_EVSI(selected_columns.cuda())\n",
        "    upper_prediction = (upper_prediction1.cpu()).detach().numpy()\n",
        "    upper_prediction = np.argmax(upper_prediction, axis=-1)\n",
        "    upper_dict[sensor] = get_expected_cost(upper_prediction,y)"
      ],
      "metadata": {
        "id": "fAJ_1jngQ4fc",
        "colab": {
          "base_uri": "https://localhost:8080/"
        },
        "outputId": "020ba2ba-7b3b-4143-b591-67aaf9d895a4"
      },
      "id": "fAJ_1jngQ4fc",
      "execution_count": null,
      "outputs": [
        {
          "output_type": "stream",
          "name": "stdout",
          "text": [
            "--------Epoch 1--------\n",
            "Val loss = 0.5734\n",
            "\n",
            "--------Epoch 2--------\n",
            "Val loss = 0.5422\n",
            "\n",
            "--------Epoch 1--------\n",
            "Val loss = 0.4364\n",
            "\n",
            "--------Epoch 2--------\n",
            "Val loss = 0.3982\n",
            "\n",
            "--------Epoch 1--------\n",
            "Val loss = 0.3478\n",
            "\n",
            "--------Epoch 2--------\n",
            "Val loss = 0.3251\n",
            "\n",
            "--------Epoch 1--------\n",
            "Val loss = 0.5866\n",
            "\n",
            "--------Epoch 2--------\n",
            "Val loss = 0.5327\n",
            "\n",
            "--------Epoch 1--------\n",
            "Val loss = 0.5138\n",
            "\n",
            "--------Epoch 2--------\n",
            "Val loss = 0.4550\n",
            "\n",
            "--------Epoch 1--------\n",
            "Val loss = 0.4705\n",
            "\n",
            "--------Epoch 2--------\n",
            "Val loss = 0.4197\n",
            "\n",
            "--------Epoch 1--------\n",
            "Val loss = 0.4123\n",
            "\n",
            "--------Epoch 2--------\n",
            "Val loss = 0.3834\n",
            "\n",
            "--------Epoch 1--------\n",
            "Val loss = 0.4977\n",
            "\n",
            "--------Epoch 2--------\n",
            "Val loss = 0.4703\n",
            "\n",
            "--------Epoch 1--------\n",
            "Val loss = 0.4094\n",
            "\n",
            "--------Epoch 2--------\n",
            "Val loss = 0.3801\n",
            "\n",
            "--------Epoch 1--------\n",
            "Val loss = 0.3814\n",
            "\n",
            "--------Epoch 2--------\n",
            "Val loss = 0.3645\n",
            "\n"
          ]
        }
      ]
    },
    {
      "cell_type": "code",
      "source": [
        "upper_dict"
      ],
      "metadata": {
        "colab": {
          "base_uri": "https://localhost:8080/"
        },
        "id": "vzR0s4UGe_Mk",
        "outputId": "904c315e-af31-4a6c-d71f-e6c85c713d85"
      },
      "id": "vzR0s4UGe_Mk",
      "execution_count": null,
      "outputs": [
        {
          "output_type": "execute_result",
          "data": {
            "text/plain": [
              "{'<BattSoc>': tensor(1.3120),\n",
              " '<BattV>': tensor(1.3343),\n",
              " '<EngSpd>': tensor(0.7406),\n",
              " '<WgAreaPct>': tensor(1.3343),\n",
              " 'Cltch1Cmd': tensor(1.3343),\n",
              " '<ThrPosPct>': tensor(1.3343),\n",
              " '<EngTrq>': tensor(1.3343),\n",
              " '<TransGear>': tensor(1.0283),\n",
              " 'FuelMainSoi': tensor(0.8127),\n",
              " '<xdot>': tensor(0.8482)}"
            ]
          },
          "metadata": {},
          "execution_count": 23
        }
      ]
    },
    {
      "cell_type": "markdown",
      "source": [
        "#EVSI"
      ],
      "metadata": {
        "id": "Ct-nLq97e8oR"
      },
      "id": "Ct-nLq97e8oR"
    },
    {
      "cell_type": "code",
      "source": [
        "# Calculate the evoi\n",
        "evoi_dict = dict()\n",
        "for sensor in sensors:\n",
        "    evoi_dict[sensor] = base_cost - upper_dict[sensor].item()\n",
        "evoi_dict"
      ],
      "metadata": {
        "colab": {
          "base_uri": "https://localhost:8080/"
        },
        "id": "3JEMTMD7fE1g",
        "outputId": "a12f56cb-b427-4c98-cb30-413a9def18e9"
      },
      "id": "3JEMTMD7fE1g",
      "execution_count": null,
      "outputs": [
        {
          "output_type": "execute_result",
          "data": {
            "text/plain": [
              "{'<BattSoc>': 0.02228069305419922,\n",
              " '<BattV>': 0.0,\n",
              " '<EngSpd>': 0.5936928391456604,\n",
              " '<WgAreaPct>': 0.0,\n",
              " 'Cltch1Cmd': 0.0,\n",
              " '<ThrPosPct>': 0.0,\n",
              " '<EngTrq>': 0.0,\n",
              " '<TransGear>': 0.3059619665145874,\n",
              " 'FuelMainSoi': 0.5215551853179932,\n",
              " '<xdot>': 0.4860110282897949}"
            ]
          },
          "metadata": {},
          "execution_count": 24
        }
      ]
    },
    {
      "cell_type": "code",
      "source": [
        "sorted(evoi_dict.items(), key=lambda x: x[1], reverse= True)"
      ],
      "metadata": {
        "colab": {
          "base_uri": "https://localhost:8080/"
        },
        "id": "EQsi4tpTgiQG",
        "outputId": "9f6866bc-37ee-425d-d585-c4db23fec6f4"
      },
      "id": "EQsi4tpTgiQG",
      "execution_count": null,
      "outputs": [
        {
          "output_type": "execute_result",
          "data": {
            "text/plain": [
              "[('<EngSpd>', 0.5936928391456604),\n",
              " ('FuelMainSoi', 0.5215551853179932),\n",
              " ('<xdot>', 0.4860110282897949),\n",
              " ('<TransGear>', 0.3059619665145874),\n",
              " ('<BattSoc>', 0.02228069305419922),\n",
              " ('<BattV>', 0.0),\n",
              " ('<WgAreaPct>', 0.0),\n",
              " ('Cltch1Cmd', 0.0),\n",
              " ('<ThrPosPct>', 0.0),\n",
              " ('<EngTrq>', 0.0)]"
            ]
          },
          "metadata": {},
          "execution_count": 25
        }
      ]
    },
    {
      "cell_type": "code",
      "source": [
        "x_1, y_1 = plot_dict(evoi_dict)\n",
        "#y_1_100 = [z * 100 for z in y_1]\n",
        "plt.figure(figsize=(20,10))\n",
        "sns.barplot(x=x_1,y= y_1, palette = mpl.cm.ScalarMappable(cmap=sns.dark_palette(\"#69d\", reverse=False, as_cmap=True)).to_rgba(y_1))\n",
        "#plt.xticks(rotation=45);\n",
        "#plt.ylim((-5.0, 16.0))\n",
        "plt.title('Complete Feature Validation Accuracy Advantage')\n",
        "plt.ylabel('%')\n",
        "plt.xlabel('Masked Feature Name');"
      ],
      "metadata": {
        "colab": {
          "base_uri": "https://localhost:8080/",
          "height": 408
        },
        "id": "vDluQ8cUgkc3",
        "outputId": "c03ce03a-5c2e-4d51-86a3-bd7db12f5b4b"
      },
      "id": "vDluQ8cUgkc3",
      "execution_count": null,
      "outputs": [
        {
          "output_type": "display_data",
          "data": {
            "text/plain": [
              "<Figure size 2000x1000 with 1 Axes>"
            ],
            "image/png": "[encoded data removed]"
          },
          "metadata": {}
        }
      ]
    },
    {
      "cell_type": "markdown",
      "source": [
        "#Heatmap"
      ],
      "metadata": {
        "id": "gcHwhcNDgmQJ"
      },
      "id": "gcHwhcNDgmQJ"
    },
    {
      "cell_type": "code",
      "execution_count": null,
      "id": "95c93f7f-871f-42b4-af04-b32f0d1b3491",
      "metadata": {
        "id": "95c93f7f-871f-42b4-af04-b32f0d1b3491",
        "colab": {
          "base_uri": "https://localhost:8080/",
          "height": 419
        },
        "outputId": "aae3ff89-4d18-4ad3-d16f-cb745f9d1cbe"
      },
      "outputs": [
        {
          "output_type": "display_data",
          "data": {
            "text/plain": [
              "<Figure size 1200x600 with 2 Axes>"
            ],
            "image/png": "[encoded data removed]"
          },
          "metadata": {}
        }
      ],
      "source": [
        "plt.figure(figsize=(12, 6))\n",
        "\n",
        "# Plot heatmap.\n",
        "heatmap = np.stack([np.zeros(len(p_list[0]))] + p_list)\n",
        "plt.imshow(heatmap, cmap='viridis')\n",
        "\n",
        "# Labels.\n",
        "plt.xlabel('Feature Index', fontsize=18)\n",
        "plt.ylabel('# Features', fontsize=18)\n",
        "plt.title('Feature Selection Frequency', fontsize=20)\n",
        "plt.tick_params(labelsize=14)\n",
        "cbar = plt.colorbar()\n",
        "cbar.ax.tick_params(labelsize=14)\n",
        "cbar.outline.set_visible(False)\n",
        "\n",
        "plt.tight_layout()\n",
        "plt.show()"
      ]
    },
    {
      "cell_type": "code",
      "execution_count": null,
      "id": "ecfde366-cf06-46cc-8163-35763758dcef",
      "metadata": {
        "id": "ecfde366-cf06-46cc-8163-35763758dcef"
      },
      "outputs": [],
      "source": []
    }
  ],
  "metadata": {
    "kernelspec": {
      "display_name": "Python 3",
      "name": "python3"
    },
    "language_info": {
      "codemirror_mode": {
        "name": "ipython",
        "version": 3
      },
      "file_extension": ".py",
      "mimetype": "text/x-python",
      "name": "python",
      "nbconvert_exporter": "python",
      "pygments_lexer": "ipython3",
      "version": "3.10.4"
    },
    "colab": {
      "provenance": [],
      "gpuType": "T4",
      "machine_shape": "hm",
      "collapsed_sections": [
        "425f0935-8f4e-417d-8344-5c125a8b26e5"
      ]
    },
    "accelerator": "GPU"
  },
  "nbformat": 4,
  "nbformat_minor": 5
}
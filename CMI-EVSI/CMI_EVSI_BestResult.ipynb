{
  "cells": [
    {
      "cell_type": "code",
      "source": [
        "from google.colab import drive\n",
        "drive.mount('/content/drive')"
      ],
      "metadata": {
        "colab": {
          "base_uri": "https://localhost:8080/"
        },
        "id": "wAv9K8EgbJyc",
        "outputId": "8477b3da-d91b-4b61-998e-49953b933648"
      },
      "id": "wAv9K8EgbJyc",
      "execution_count": 1,
      "outputs": [
        {
          "output_type": "stream",
          "name": "stdout",
          "text": [
            "Mounted at /content/drive\n"
          ]
        }
      ]
    },
    {
      "cell_type": "code",
      "source": [
        "import sys\n",
        "sys.path.append('/content/drive/MyDrive')"
      ],
      "metadata": {
        "id": "YtRDazIRbIgl"
      },
      "id": "YtRDazIRbIgl",
      "execution_count": 2,
      "outputs": []
    },
    {
      "cell_type": "code",
      "source": [
        "from sklearn.preprocessing import StandardScaler\n",
        "import seaborn as sns\n",
        "import matplotlib as mpl"
      ],
      "metadata": {
        "id": "q_OHjCqc4nuK"
      },
      "id": "q_OHjCqc4nuK",
      "execution_count": 3,
      "outputs": []
    },
    {
      "cell_type": "markdown",
      "source": [
        "#Standard imports"
      ],
      "metadata": {
        "id": "i8CvfJqHurDI"
      },
      "id": "i8CvfJqHurDI"
    },
    {
      "cell_type": "code",
      "execution_count": 4,
      "id": "b9b69012-5423-4418-9bb2-e85f353fb27b",
      "metadata": {
        "colab": {
          "base_uri": "https://localhost:8080/"
        },
        "id": "b9b69012-5423-4418-9bb2-e85f353fb27b",
        "outputId": "d940b620-7871-48f1-e7c6-5c30541cff1a"
      },
      "outputs": [
        {
          "output_type": "stream",
          "name": "stdout",
          "text": [
            "Collecting pytorch_lightning\n",
            "  Downloading pytorch_lightning-2.0.9-py3-none-any.whl (727 kB)\n",
            "\u001b[2K     \u001b[90m━━━━━━━━━━━━━━━━━━━━━━━━━━━━━━━━━━━━━━━\u001b[0m \u001b[32m727.7/727.7 kB\u001b[0m \u001b[31m8.0 MB/s\u001b[0m eta \u001b[36m0:00:00\u001b[0m\n",
            "\u001b[?25hRequirement already satisfied: numpy>=1.17.2 in /usr/local/lib/python3.10/dist-packages (from pytorch_lightning) (1.23.5)\n",
            "Requirement already satisfied: torch>=1.11.0 in /usr/local/lib/python3.10/dist-packages (from pytorch_lightning) (2.0.1+cu118)\n",
            "Requirement already satisfied: tqdm>=4.57.0 in /usr/local/lib/python3.10/dist-packages (from pytorch_lightning) (4.66.1)\n",
            "Requirement already satisfied: PyYAML>=5.4 in /usr/local/lib/python3.10/dist-packages (from pytorch_lightning) (6.0.1)\n",
            "Requirement already satisfied: fsspec[http]>2021.06.0 in /usr/local/lib/python3.10/dist-packages (from pytorch_lightning) (2023.6.0)\n",
            "Collecting torchmetrics>=0.7.0 (from pytorch_lightning)\n",
            "  Downloading torchmetrics-1.1.2-py3-none-any.whl (764 kB)\n",
            "\u001b[2K     \u001b[90m━━━━━━━━━━━━━━━━━━━━━━━━━━━━━━━━━━━━━━\u001b[0m \u001b[32m764.8/764.8 kB\u001b[0m \u001b[31m60.8 MB/s\u001b[0m eta \u001b[36m0:00:00\u001b[0m\n",
            "\u001b[?25hRequirement already satisfied: packaging>=17.1 in /usr/local/lib/python3.10/dist-packages (from pytorch_lightning) (23.1)\n",
            "Requirement already satisfied: typing-extensions>=4.0.0 in /usr/local/lib/python3.10/dist-packages (from pytorch_lightning) (4.5.0)\n",
            "Collecting lightning-utilities>=0.7.0 (from pytorch_lightning)\n",
            "  Downloading lightning_utilities-0.9.0-py3-none-any.whl (23 kB)\n",
            "Requirement already satisfied: requests in /usr/local/lib/python3.10/dist-packages (from fsspec[http]>2021.06.0->pytorch_lightning) (2.31.0)\n",
            "Requirement already satisfied: aiohttp!=4.0.0a0,!=4.0.0a1 in /usr/local/lib/python3.10/dist-packages (from fsspec[http]>2021.06.0->pytorch_lightning) (3.8.5)\n",
            "Requirement already satisfied: filelock in /usr/local/lib/python3.10/dist-packages (from torch>=1.11.0->pytorch_lightning) (3.12.2)\n",
            "Requirement already satisfied: sympy in /usr/local/lib/python3.10/dist-packages (from torch>=1.11.0->pytorch_lightning) (1.12)\n",
            "Requirement already satisfied: networkx in /usr/local/lib/python3.10/dist-packages (from torch>=1.11.0->pytorch_lightning) (3.1)\n",
            "Requirement already satisfied: jinja2 in /usr/local/lib/python3.10/dist-packages (from torch>=1.11.0->pytorch_lightning) (3.1.2)\n",
            "Requirement already satisfied: triton==2.0.0 in /usr/local/lib/python3.10/dist-packages (from torch>=1.11.0->pytorch_lightning) (2.0.0)\n",
            "Requirement already satisfied: cmake in /usr/local/lib/python3.10/dist-packages (from triton==2.0.0->torch>=1.11.0->pytorch_lightning) (3.27.4.1)\n",
            "Requirement already satisfied: lit in /usr/local/lib/python3.10/dist-packages (from triton==2.0.0->torch>=1.11.0->pytorch_lightning) (16.0.6)\n",
            "Requirement already satisfied: attrs>=17.3.0 in /usr/local/lib/python3.10/dist-packages (from aiohttp!=4.0.0a0,!=4.0.0a1->fsspec[http]>2021.06.0->pytorch_lightning) (23.1.0)\n",
            "Requirement already satisfied: charset-normalizer<4.0,>=2.0 in /usr/local/lib/python3.10/dist-packages (from aiohttp!=4.0.0a0,!=4.0.0a1->fsspec[http]>2021.06.0->pytorch_lightning) (3.2.0)\n",
            "Requirement already satisfied: multidict<7.0,>=4.5 in /usr/local/lib/python3.10/dist-packages (from aiohttp!=4.0.0a0,!=4.0.0a1->fsspec[http]>2021.06.0->pytorch_lightning) (6.0.4)\n",
            "Requirement already satisfied: async-timeout<5.0,>=4.0.0a3 in /usr/local/lib/python3.10/dist-packages (from aiohttp!=4.0.0a0,!=4.0.0a1->fsspec[http]>2021.06.0->pytorch_lightning) (4.0.3)\n",
            "Requirement already satisfied: yarl<2.0,>=1.0 in /usr/local/lib/python3.10/dist-packages (from aiohttp!=4.0.0a0,!=4.0.0a1->fsspec[http]>2021.06.0->pytorch_lightning) (1.9.2)\n",
            "Requirement already satisfied: frozenlist>=1.1.1 in /usr/local/lib/python3.10/dist-packages (from aiohttp!=4.0.0a0,!=4.0.0a1->fsspec[http]>2021.06.0->pytorch_lightning) (1.4.0)\n",
            "Requirement already satisfied: aiosignal>=1.1.2 in /usr/local/lib/python3.10/dist-packages (from aiohttp!=4.0.0a0,!=4.0.0a1->fsspec[http]>2021.06.0->pytorch_lightning) (1.3.1)\n",
            "Requirement already satisfied: MarkupSafe>=2.0 in /usr/local/lib/python3.10/dist-packages (from jinja2->torch>=1.11.0->pytorch_lightning) (2.1.3)\n",
            "Requirement already satisfied: idna<4,>=2.5 in /usr/local/lib/python3.10/dist-packages (from requests->fsspec[http]>2021.06.0->pytorch_lightning) (3.4)\n",
            "Requirement already satisfied: urllib3<3,>=1.21.1 in /usr/local/lib/python3.10/dist-packages (from requests->fsspec[http]>2021.06.0->pytorch_lightning) (2.0.4)\n",
            "Requirement already satisfied: certifi>=2017.4.17 in /usr/local/lib/python3.10/dist-packages (from requests->fsspec[http]>2021.06.0->pytorch_lightning) (2023.7.22)\n",
            "Requirement already satisfied: mpmath>=0.19 in /usr/local/lib/python3.10/dist-packages (from sympy->torch>=1.11.0->pytorch_lightning) (1.3.0)\n",
            "Installing collected packages: lightning-utilities, torchmetrics, pytorch_lightning\n",
            "Successfully installed lightning-utilities-0.9.0 pytorch_lightning-2.0.9 torchmetrics-1.1.2\n"
          ]
        }
      ],
      "source": [
        "!pip install pytorch_lightning\n",
        "import torch\n",
        "import numpy as np\n",
        "import torch.nn as nn\n",
        "import dynamic_selection as ds\n",
        "import matplotlib.pyplot as plt\n",
        "from torch.utils.data import DataLoader,Subset, TensorDataset\n",
        "from torchmetrics import Accuracy, AUROC\n",
        "from dynamic_selection import MaskingPretrainer, GreedyDynamicSelection,BaseModel\n",
        "import pandas as pd"
      ]
    },
    {
      "cell_type": "markdown",
      "source": [
        "#Dataset"
      ],
      "metadata": {
        "id": "4bTK9eWiuzcM"
      },
      "id": "4bTK9eWiuzcM"
    },
    {
      "cell_type": "code",
      "execution_count": 5,
      "id": "a8de7c64-00d3-473b-9045-06c892fda53d",
      "metadata": {
        "id": "a8de7c64-00d3-473b-9045-06c892fda53d",
        "colab": {
          "base_uri": "https://localhost:8080/"
        },
        "outputId": "67c2fef1-8d6a-4f35-cea1-7a998e29e69a"
      },
      "outputs": [
        {
          "output_type": "execute_result",
          "data": {
            "text/plain": [
              "array(['VelocityRef:1', '<xdot>', '<BattSoc>', '<BattPwr>',\n",
              "       '<Cltch1State>', '<Cltch2State>', '<BattV>', '<TransGear>',\n",
              "       '<EngSpd>', '<IntkVlvLift>', '<EngTrq>', '<ThrPosPct>',\n",
              "       '<WgAreaPct>', '<EgrVlvAreaPct>', '<VarCompRatioPos>', '<Acc>',\n",
              "       '<Dec>', '<IgSw>', '<Chrg>', 'TransGear', 'BrkCmd', 'Cltch1Cmd',\n",
              "       '<MotTrq>', '<StartTrq>', 'StartCmd', 'MotTrqCmd', 'BattCrnt:1',\n",
              "       'MotPwrElec:1', 'MotPwrMech:1', 'IntkVlvLiftCmd', 'FuelMainSoi',\n",
              "       'FuelFlw'], dtype='<U17')"
            ]
          },
          "metadata": {},
          "execution_count": 5
        }
      ],
      "source": [
        "# Load dataset.\n",
        "dataset = ds.data.load_spam()\n",
        "d_in = dataset.input_size    # 57\n",
        "d_out = dataset.output_size  # 2\n",
        "# Normalize and split dataset.\n",
        "mean = dataset.tensors[0].mean(dim=0)\n",
        "dataset.tensors = (dataset.tensors[0] - mean, dataset.tensors[1])\n",
        "train_dataset, val_dataset, test_dataset = ds.data.data_split(dataset)\n",
        "dataset.features"
      ]
    },
    {
      "cell_type": "code",
      "execution_count": 6,
      "id": "3c540621-e149-4a18-8106-8bf11b6e0a8c",
      "metadata": {
        "id": "3c540621-e149-4a18-8106-8bf11b6e0a8c"
      },
      "outputs": [],
      "source": [
        "# Prepare dataloaders.\n",
        "train_loader = DataLoader(train_dataset, batch_size=128, shuffle=True, pin_memory=True, drop_last=True)\n",
        "val_loader = DataLoader(val_dataset, batch_size=1024, pin_memory=True)\n",
        "test_loader = DataLoader(test_dataset, batch_size=1024, pin_memory=True)"
      ]
    },
    {
      "cell_type": "markdown",
      "source": [
        "#Networks"
      ],
      "metadata": {
        "id": "45BOibwzumPZ"
      },
      "id": "45BOibwzumPZ"
    },
    {
      "cell_type": "code",
      "execution_count": 7,
      "id": "c4335579-92bf-4ff6-95d0-513a923d5694",
      "metadata": {
        "id": "c4335579-92bf-4ff6-95d0-513a923d5694"
      },
      "outputs": [],
      "source": [
        "# Set up networks\n",
        "hidden = 128\n",
        "dropout = 0.3\n",
        "\n",
        "predictor = nn.Sequential(\n",
        "    nn.Linear(2 * d_in, hidden),\n",
        "    nn.ReLU(),\n",
        "    nn.Dropout(dropout),\n",
        "    nn.Linear(hidden, hidden),\n",
        "    nn.ReLU(),\n",
        "    nn.Dropout(dropout),\n",
        "    nn.Linear(hidden, d_out))\n",
        "\n",
        "selector = nn.Sequential(\n",
        "    nn.Linear(2 * d_in, hidden),\n",
        "    nn.ReLU(),\n",
        "    nn.Dropout(dropout),\n",
        "    nn.Linear(hidden, hidden),\n",
        "    nn.ReLU(),\n",
        "    nn.Dropout(dropout),\n",
        "    nn.Linear(hidden, d_in))"
      ]
    },
    {
      "cell_type": "code",
      "execution_count": 8,
      "id": "0d9c9d72-e3bb-4d68-b2f9-fa9747c8bb5f",
      "metadata": {
        "id": "0d9c9d72-e3bb-4d68-b2f9-fa9747c8bb5f",
        "colab": {
          "base_uri": "https://localhost:8080/"
        },
        "outputId": "f2bacb44-b858-4488-ad41-7caaac552564"
      },
      "outputs": [
        {
          "output_type": "stream",
          "name": "stdout",
          "text": [
            "--------Epoch 1--------\n",
            "Val loss = 1.0601\n",
            "\n",
            "--------Epoch 2--------\n",
            "Val loss = 0.9985\n",
            "\n",
            "--------Epoch 3--------\n",
            "Val loss = 0.9954\n",
            "\n",
            "--------Epoch 4--------\n",
            "Val loss = 0.9903\n",
            "\n",
            "--------Epoch 5--------\n",
            "Val loss = 0.9852\n",
            "\n",
            "--------Epoch 6--------\n",
            "Val loss = 0.9837\n",
            "\n",
            "--------Epoch 7--------\n",
            "Val loss = 0.9777\n",
            "\n",
            "--------Epoch 8--------\n",
            "Val loss = 0.9858\n",
            "\n",
            "--------Epoch 9--------\n",
            "Val loss = 0.9783\n",
            "\n",
            "--------Epoch 10--------\n",
            "Val loss = 0.9836\n",
            "\n",
            "Epoch 00010: reducing learning rate of group 0 to 2.0000e-04.\n",
            "--------Epoch 11--------\n",
            "Val loss = 0.9615\n",
            "\n",
            "--------Epoch 12--------\n",
            "Val loss = 0.9588\n",
            "\n",
            "--------Epoch 13--------\n",
            "Val loss = 0.9565\n",
            "\n",
            "--------Epoch 14--------\n",
            "Val loss = 0.9557\n",
            "\n",
            "--------Epoch 15--------\n",
            "Val loss = 0.9564\n",
            "\n"
          ]
        }
      ],
      "source": [
        "# Pretrain predictor.\n",
        "mask_layer = ds.utils.MaskLayer(append=True)\n",
        "pretrain = MaskingPretrainer(predictor, mask_layer).cuda()\n",
        "pretrain.fit(\n",
        "    train_loader,\n",
        "    val_loader,\n",
        "    lr=1e-3,\n",
        "    nepochs=15,#100\n",
        "    loss_fn=nn.CrossEntropyLoss(),\n",
        "    verbose=True)"
      ]
    },
    {
      "cell_type": "code",
      "source": [
        "# Train selector and predictor jointly.\n",
        "gdfs = GreedyDynamicSelection(selector, predictor, mask_layer).cuda()"
      ],
      "metadata": {
        "id": "eJf_l4QGfiaT"
      },
      "id": "eJf_l4QGfiaT",
      "execution_count": 9,
      "outputs": []
    },
    {
      "cell_type": "code",
      "execution_count": 10,
      "id": "c9a8c6e7-6234-4154-b95d-8811905a0b50",
      "metadata": {
        "id": "c9a8c6e7-6234-4154-b95d-8811905a0b50",
        "colab": {
          "base_uri": "https://localhost:8080/"
        },
        "outputId": "b0d092ed-ae52-4c7e-b608-3671d1d2176f"
      },
      "outputs": [
        {
          "output_type": "stream",
          "name": "stdout",
          "text": [
            "Starting training with temp = 0.3000\n",
            "\n",
            "epoch is 0\n",
            "\n",
            "--------Epoch 1 (1 total)--------\n",
            "Val loss = 0.6054, Zero-temp loss = 0.6047\n",
            "\n",
            "epoch is 1\n",
            "\n",
            "--------Epoch 2 (2 total)--------\n",
            "Val loss = 0.6031, Zero-temp loss = 0.6031\n",
            "\n",
            "epoch is 2\n",
            "\n",
            "11500\n",
            "['<ThrPosPct>', '<xdot>', '<BattSoc>', '<Cltch2State>', '<BattV>', 'Cltch1Cmd', 'TransGear', '<Chrg>', 'FuelMainSoi', 'IntkVlvLiftCmd']\n",
            "11600\n",
            "['<xdot>', '<ThrPosPct>', '<BattSoc>', '<Cltch2State>', '<BattV>', 'Cltch1Cmd', 'TransGear', '<Chrg>', 'FuelMainSoi', '<IntkVlvLift>']\n",
            "11700\n",
            "['<xdot>', '<BattSoc>', '<ThrPosPct>', '<Cltch2State>', 'Cltch1Cmd', '<BattV>', 'TransGear', '<Chrg>', 'FuelMainSoi', '<IntkVlvLift>']\n",
            "11800\n",
            "['<ThrPosPct>', '<xdot>', '<BattSoc>', '<Cltch2State>', '<BattV>', 'Cltch1Cmd', 'TransGear', '<Chrg>', '<IntkVlvLift>', 'FuelMainSoi']\n",
            "11900\n",
            "['<ThrPosPct>', '<BattSoc>', '<xdot>', '<Cltch2State>', 'Cltch1Cmd', '<BattV>', 'TransGear', '<Chrg>', '<IntkVlvLift>', 'FuelMainSoi']\n",
            "12000\n",
            "['<ThrPosPct>', '<xdot>', '<BattSoc>', '<Cltch2State>', '<BattV>', 'Cltch1Cmd', 'TransGear', '<Chrg>', 'FuelMainSoi', '<IntkVlvLift>']\n",
            "12100\n",
            "['<ThrPosPct>', '<xdot>', '<Cltch2State>', '<BattSoc>', '<BattV>', 'Cltch1Cmd', 'TransGear', '<Chrg>', 'IntkVlvLiftCmd', '<IntkVlvLift>']\n",
            "12200\n",
            "['<ThrPosPct>', '<xdot>', '<Cltch2State>', '<BattSoc>', '<BattV>', 'Cltch1Cmd', 'TransGear', '<Chrg>', '<IntkVlvLift>', 'FuelMainSoi']\n",
            "12300\n",
            "['<ThrPosPct>', '<xdot>', '<BattSoc>', '<Cltch2State>', 'Cltch1Cmd', '<BattV>', 'TransGear', '<Chrg>', '<IntkVlvLift>', 'FuelMainSoi']\n",
            "12400\n",
            "['<BattSoc>', '<ThrPosPct>', '<xdot>', '<Cltch2State>', '<BattV>', 'Cltch1Cmd', 'TransGear', '<Chrg>', 'IntkVlvLiftCmd', '<IntkVlvLift>']\n",
            "12500\n",
            "['<ThrPosPct>', '<xdot>', '<BattSoc>', '<Cltch2State>', '<BattV>', 'Cltch1Cmd', 'TransGear', '<Chrg>', 'FuelMainSoi', '<WgAreaPct>']\n",
            "12600\n",
            "['<ThrPosPct>', '<xdot>', '<BattSoc>', '<Cltch2State>', '<BattV>', 'Cltch1Cmd', 'TransGear', '<Chrg>', 'IntkVlvLiftCmd', 'FuelMainSoi']\n",
            "12700\n",
            "['<ThrPosPct>', '<xdot>', '<BattSoc>', '<Cltch2State>', '<BattV>', 'Cltch1Cmd', 'TransGear', '<Chrg>', 'FuelMainSoi', 'IntkVlvLiftCmd']\n",
            "12800\n",
            "['<BattSoc>', '<Cltch2State>', '<ThrPosPct>', '<xdot>', '<BattV>', 'TransGear', 'Cltch1Cmd', '<Chrg>', 'FuelMainSoi', '<IntkVlvLift>']\n",
            "12900\n",
            "['<ThrPosPct>', '<BattSoc>', '<xdot>', '<Cltch2State>', '<BattV>', 'TransGear', 'Cltch1Cmd', '<Chrg>', 'FuelMainSoi', '<IntkVlvLift>']\n",
            "13000\n",
            "['<BattSoc>', '<Cltch2State>', '<ThrPosPct>', '<xdot>', '<BattV>', 'Cltch1Cmd', 'TransGear', '<Chrg>', 'FuelMainSoi', '<Acc>']\n",
            "13100\n",
            "['<Cltch2State>', '<xdot>', '<ThrPosPct>', '<BattSoc>', '<BattV>', 'Cltch1Cmd', 'TransGear', '<Chrg>', 'FuelMainSoi', '<Acc>']\n",
            "13200\n",
            "['<ThrPosPct>', '<BattSoc>', '<Cltch2State>', '<xdot>', '<BattV>', 'TransGear', 'Cltch1Cmd', 'FuelMainSoi', '<Chrg>', 'IntkVlvLiftCmd']\n",
            "13300\n",
            "['<ThrPosPct>', '<BattSoc>', '<Cltch2State>', '<xdot>', '<BattV>', 'Cltch1Cmd', 'TransGear', 'FuelMainSoi', 'IntkVlvLiftCmd', '<Chrg>']\n",
            "13400\n",
            "['<ThrPosPct>', '<BattSoc>', '<xdot>', '<Cltch2State>', '<BattV>', 'TransGear', 'Cltch1Cmd', '<Chrg>', 'IntkVlvLiftCmd', '<Acc>']\n",
            "13500\n",
            "['<ThrPosPct>', '<Cltch2State>', '<BattSoc>', '<xdot>', '<BattV>', 'Cltch1Cmd', 'TransGear', 'FuelMainSoi', 'IntkVlvLiftCmd', '<IntkVlvLift>']\n",
            "13600\n",
            "['<ThrPosPct>', '<xdot>', '<BattSoc>', '<Cltch2State>', '<BattV>', 'Cltch1Cmd', 'TransGear', 'IntkVlvLiftCmd', '<Chrg>', 'FuelMainSoi']\n",
            "13700\n",
            "['<xdot>', '<Cltch2State>', '<BattSoc>', '<ThrPosPct>', '<BattV>', 'Cltch1Cmd', 'TransGear', 'FuelMainSoi', '<Chrg>', 'IntkVlvLiftCmd']\n",
            "13800\n",
            "['<ThrPosPct>', '<xdot>', '<Cltch2State>', '<BattSoc>', 'Cltch1Cmd', '<BattV>', 'TransGear', 'IntkVlvLiftCmd', 'FuelMainSoi', '<Chrg>']\n",
            "13900\n",
            "['<ThrPosPct>', '<xdot>', '<BattSoc>', '<Cltch2State>', 'Cltch1Cmd', '<BattV>', 'TransGear', 'FuelMainSoi', 'IntkVlvLiftCmd', '<Chrg>']\n",
            "14000\n",
            "['<ThrPosPct>', '<xdot>', '<BattSoc>', '<Cltch2State>', '<BattV>', 'Cltch1Cmd', 'TransGear', '<Chrg>', '<Acc>', 'FuelMainSoi']\n",
            "14100\n",
            "['<ThrPosPct>', '<xdot>', '<BattSoc>', '<Cltch2State>', 'Cltch1Cmd', '<BattV>', 'TransGear', '<WgAreaPct>', '<Acc>', 'IntkVlvLiftCmd']\n",
            "14200\n",
            "['<Cltch2State>', '<xdot>', '<BattSoc>', '<ThrPosPct>', '<BattV>', 'Cltch1Cmd', 'TransGear', 'FuelMainSoi', '<Chrg>', 'IntkVlvLiftCmd']\n",
            "14300\n",
            "['<ThrPosPct>', '<BattSoc>', '<Cltch2State>', '<xdot>', 'Cltch1Cmd', '<BattV>', 'TransGear', 'FuelMainSoi', '<Chrg>', 'IntkVlvLiftCmd']\n",
            "14400\n",
            "['<ThrPosPct>', '<xdot>', '<BattSoc>', '<Cltch2State>', '<BattV>', 'Cltch1Cmd', 'TransGear', 'IntkVlvLiftCmd', 'FuelMainSoi', '<IntkVlvLift>']\n",
            "14500\n",
            "['<xdot>', '<BattSoc>', '<ThrPosPct>', '<Cltch2State>', 'Cltch1Cmd', '<BattV>', 'TransGear', 'FuelMainSoi', 'IntkVlvLiftCmd', '<Acc>']\n",
            "14600\n",
            "['<xdot>', '<BattSoc>', '<Cltch2State>', '<ThrPosPct>', 'Cltch1Cmd', '<BattV>', 'TransGear', 'FuelMainSoi', 'IntkVlvLiftCmd', '<Chrg>']\n",
            "14700\n",
            "['<Cltch2State>', '<ThrPosPct>', '<xdot>', '<BattSoc>', '<BattV>', 'Cltch1Cmd', 'TransGear', '<Chrg>', 'IntkVlvLiftCmd', 'FuelMainSoi']\n",
            "14800\n",
            "['<ThrPosPct>', '<xdot>', '<Cltch2State>', '<BattSoc>', '<BattV>', 'Cltch1Cmd', 'TransGear', 'IntkVlvLiftCmd', '<Chrg>', '<IntkVlvLift>']\n",
            "14900\n",
            "['<xdot>', '<BattSoc>', '<Cltch2State>', '<ThrPosPct>', 'Cltch1Cmd', '<BattV>', 'TransGear', 'IntkVlvLiftCmd', '<Chrg>', 'FuelMainSoi']\n",
            "15000\n",
            "['<ThrPosPct>', '<xdot>', '<Cltch2State>', '<BattSoc>', '<BattV>', 'Cltch1Cmd', 'TransGear', 'IntkVlvLiftCmd', '<Chrg>', '<IntkVlvLift>']\n",
            "15100\n",
            "['<Cltch2State>', '<xdot>', '<BattSoc>', '<ThrPosPct>', '<BattV>', 'Cltch1Cmd', 'TransGear', '<Chrg>', 'IntkVlvLiftCmd', '<WgAreaPct>']\n",
            "15200\n",
            "['<ThrPosPct>', '<xdot>', '<Cltch2State>', '<BattSoc>', '<BattV>', 'Cltch1Cmd', 'TransGear', '<Chrg>', 'IntkVlvLiftCmd', '<IntkVlvLift>']\n",
            "15300\n",
            "['<xdot>', '<Cltch2State>', '<BattSoc>', '<ThrPosPct>', '<BattV>', 'Cltch1Cmd', 'TransGear', '<Chrg>', 'FuelMainSoi', '<IntkVlvLift>']\n",
            "15400\n",
            "['<Cltch2State>', '<xdot>', '<BattSoc>', '<ThrPosPct>', '<BattV>', 'Cltch1Cmd', 'TransGear', 'IntkVlvLiftCmd', '<Chrg>', '<Acc>']\n",
            "15500\n",
            "['<Cltch2State>', '<xdot>', '<BattSoc>', '<ThrPosPct>', '<BattV>', 'Cltch1Cmd', 'TransGear', 'IntkVlvLiftCmd', '<Chrg>', '<IntkVlvLift>']\n",
            "15600\n",
            "['<xdot>', '<BattSoc>', '<Cltch2State>', '<ThrPosPct>', '<BattV>', 'Cltch1Cmd', 'TransGear', '<Chrg>', 'IntkVlvLiftCmd', '<IntkVlvLift>']\n",
            "15700\n",
            "['<xdot>', '<BattSoc>', '<ThrPosPct>', '<Cltch2State>', 'Cltch1Cmd', '<BattV>', 'TransGear', '<IntkVlvLift>', 'IntkVlvLiftCmd', '<Chrg>']\n",
            "15800\n",
            "['<xdot>', '<BattSoc>', '<Cltch2State>', '<ThrPosPct>', '<BattV>', 'Cltch1Cmd', 'TransGear', 'IntkVlvLiftCmd', '<Chrg>', 'FuelMainSoi']\n",
            "15900\n",
            "['<ThrPosPct>', '<xdot>', '<Cltch2State>', '<BattSoc>', '<BattV>', 'Cltch1Cmd', 'TransGear', 'IntkVlvLiftCmd', '<IntkVlvLift>', '<Chrg>']\n",
            "16000\n",
            "['<xdot>', '<BattSoc>', '<Cltch2State>', '<ThrPosPct>', '<BattV>', 'Cltch1Cmd', 'TransGear', 'IntkVlvLiftCmd', '<Chrg>', '<IntkVlvLift>']\n",
            "16100\n",
            "['<xdot>', '<BattSoc>', '<Cltch2State>', '<ThrPosPct>', 'Cltch1Cmd', '<BattV>', 'TransGear', 'IntkVlvLiftCmd', '<IntkVlvLift>', '<Chrg>']\n",
            "16200\n",
            "['<xdot>', '<BattSoc>', '<ThrPosPct>', '<Cltch2State>', 'Cltch1Cmd', '<BattV>', 'TransGear', '<Chrg>', 'IntkVlvLiftCmd', '<Acc>']\n",
            "16300\n",
            "['<Cltch2State>', '<xdot>', '<BattSoc>', '<ThrPosPct>', '<BattV>', 'Cltch1Cmd', 'TransGear', 'IntkVlvLiftCmd', '<Chrg>', '<Acc>']\n",
            "16400\n",
            "['<xdot>', '<BattV>', '<Cltch2State>', '<BattSoc>', '<ThrPosPct>', 'Cltch1Cmd', 'TransGear', 'IntkVlvLiftCmd', '<WgAreaPct>', '<Chrg>']\n",
            "16500\n",
            "['<BattV>', '<xdot>', '<BattSoc>', '<Cltch2State>', '<ThrPosPct>', 'Cltch1Cmd', 'TransGear', 'IntkVlvLiftCmd', '<IntkVlvLift>', '<Chrg>']\n",
            "16600\n",
            "['<BattV>', '<ThrPosPct>', '<xdot>', '<BattSoc>', '<Cltch2State>', 'Cltch1Cmd', 'TransGear', 'IntkVlvLiftCmd', '<Chrg>', '<Acc>']\n",
            "16700\n",
            "['<xdot>', '<BattV>', '<Cltch2State>', '<BattSoc>', '<ThrPosPct>', 'Cltch1Cmd', 'TransGear', 'IntkVlvLiftCmd', '<Chrg>', '<IntkVlvLift>']\n",
            "16800\n",
            "['<BattV>', '<xdot>', '<BattSoc>', '<Cltch2State>', '<ThrPosPct>', 'Cltch1Cmd', 'TransGear', 'IntkVlvLiftCmd', '<Chrg>', '<IntkVlvLift>']\n",
            "16900\n",
            "['<Cltch2State>', '<xdot>', '<BattV>', '<BattSoc>', '<ThrPosPct>', 'Cltch1Cmd', 'TransGear', '<Chrg>', 'IntkVlvLiftCmd', '<Acc>']\n",
            "17000\n",
            "['<Cltch2State>', '<BattV>', '<xdot>', '<BattSoc>', '<ThrPosPct>', 'Cltch1Cmd', 'TransGear', '<Chrg>', 'IntkVlvLiftCmd', '<WgAreaPct>']\n",
            "17100\n",
            "['<xdot>', '<BattSoc>', '<BattV>', '<Cltch2State>', '<ThrPosPct>', 'Cltch1Cmd', 'TransGear', 'IntkVlvLiftCmd', '<Chrg>', 'FuelMainSoi']\n",
            "--------Epoch 3 (3 total)--------\n",
            "Val loss = 0.5909, Zero-temp loss = 0.5909\n",
            "\n",
            "Stopping temp = 0.3000 at epoch 3\n",
            "\n"
          ]
        }
      ],
      "source": [
        "gdfs.fit(\n",
        "    train_loader,\n",
        "    val_loader,\n",
        "    dataset.features,\n",
        "    lr=1e-3,\n",
        "    nepochs=3,#250\n",
        "    start_temp=0.3,\n",
        "    temp_steps=1,\n",
        "    max_features=35,\n",
        "    loss_fn=nn.CrossEntropyLoss(),\n",
        "    verbose=True\n",
        "    )"
      ]
    },
    {
      "cell_type": "code",
      "source": [
        "gdfs.selector.load_state_dict(torch.load('/content/drive/MyDrive/selPre/selector'))\n",
        "gdfs.predictor.load_state_dict(torch.load('/content/drive/MyDrive/selPre/predictor'))"
      ],
      "metadata": {
        "id": "4UOGbTuZfpCa",
        "colab": {
          "base_uri": "https://localhost:8080/"
        },
        "outputId": "0e4f5071-9391-4801-ceaa-6f8b0a643eb0"
      },
      "id": "4UOGbTuZfpCa",
      "execution_count": 11,
      "outputs": [
        {
          "output_type": "execute_result",
          "data": {
            "text/plain": [
              "<All keys matched successfully>"
            ]
          },
          "metadata": {},
          "execution_count": 11
        }
      ]
    },
    {
      "cell_type": "markdown",
      "id": "425f0935-8f4e-417d-8344-5c125a8b26e5",
      "metadata": {
        "id": "425f0935-8f4e-417d-8344-5c125a8b26e5"
      },
      "source": [
        "# Evaluate performance\n",
        "\n",
        "- AUROC and top-1 accuracy increase quickly with the number of selections\n",
        "- Performance can often be improved by increasing the `patience` parameter, or increasing the number of temperature steps (`temp_steps`)"
      ]
    },
    {
      "cell_type": "code",
      "execution_count": 12,
      "id": "61a8bb95-483d-45b6-896a-c585a6bd338c",
      "metadata": {
        "id": "61a8bb95-483d-45b6-896a-c585a6bd338c",
        "colab": {
          "base_uri": "https://localhost:8080/"
        },
        "outputId": "1ddd863f-5126-4b86-eb0c-77ce8f9912ea"
      },
      "outputs": [
        {
          "output_type": "stream",
          "name": "stdout",
          "text": [
            "Num = 1, AUROC = 82.07, Acc = 61.75\n",
            "Num = 2, AUROC = 84.43, Acc = 67.34\n",
            "Num = 3, AUROC = 84.50, Acc = 67.46\n",
            "Num = 4, AUROC = 85.97, Acc = 67.77\n",
            "Num = 5, AUROC = 85.53, Acc = 68.33\n",
            "Num = 6, AUROC = 85.27, Acc = 68.12\n",
            "Num = 7, AUROC = 85.88, Acc = 70.36\n",
            "Num = 8, AUROC = 85.88, Acc = 70.13\n",
            "Num = 9, AUROC = 85.88, Acc = 70.37\n",
            "Num = 10, AUROC = 85.94, Acc = 69.94\n",
            "Num = 15, AUROC = 86.48, Acc = 69.11\n",
            "Num = 20, AUROC = 89.95, Acc = 74.34\n",
            "Num = 25, AUROC = 90.00, Acc = 74.95\n"
          ]
        }
      ],
      "source": [
        "# For saving results.\n",
        "num_features = list(range(1, 11)) + list(range(15, 30, 5))\n",
        "auroc_list = []\n",
        "acc_list = []\n",
        "\n",
        "# Metrics (softmax is applied automatically in recent versions of torchmetrics).\n",
        "auroc_metric = lambda pred, y: AUROC(task='multiclass', num_classes=d_out)(pred.softmax(dim=1), y)\n",
        "acc_metric = Accuracy(task='multiclass', num_classes=d_out)\n",
        "\n",
        "# Evaluate.\n",
        "for num in num_features:\n",
        "    auroc, acc = gdfs.evaluate(test_loader, num, (auroc_metric, acc_metric))\n",
        "    auroc_list.append(auroc)\n",
        "    acc_list.append(acc)\n",
        "    print(f'Num = {num}, AUROC = {100*auroc:.2f}, Acc = {100*acc:.2f}')"
      ]
    },
    {
      "cell_type": "code",
      "execution_count": 13,
      "id": "5f726829-cd23-44f7-a1c3-eb4d0756a38c",
      "metadata": {
        "id": "5f726829-cd23-44f7-a1c3-eb4d0756a38c",
        "colab": {
          "base_uri": "https://localhost:8080/",
          "height": 300
        },
        "outputId": "36bedeb1-1ed5-443a-9c12-e8c9719b6c3e"
      },
      "outputs": [
        {
          "output_type": "display_data",
          "data": {
            "text/plain": [
              "<Figure size 1800x600 with 2 Axes>"
            ],
            "image/png": "[encoded data removed]"
          },
          "metadata": {}
        }
      ],
      "source": [
        "# Plot results\n",
        "fig, axarr = plt.subplots(1, 2, figsize=(18, 6))\n",
        "\n",
        "# AUROC\n",
        "plt.sca(axarr[0])\n",
        "plt.plot(num_features, auroc_list, marker='o')\n",
        "plt.xlabel('# Features', fontsize=16)\n",
        "plt.ylabel('AUROC', fontsize=16)\n",
        "plt.title('AUROC vs. Feature Budget', fontsize=18)\n",
        "plt.tick_params(labelsize=14)\n",
        "plt.gca().spines['right'].set_visible(False)\n",
        "plt.gca().spines['top'].set_visible(False)\n",
        "\n",
        "# Accuracy\n",
        "plt.sca(axarr[1])\n",
        "plt.plot(num_features, acc_list, marker='o')\n",
        "plt.xlabel('# Features', fontsize=16)\n",
        "plt.ylabel('Accuracy', fontsize=16)\n",
        "plt.title('Accuracy vs. Feature Budget', fontsize=18)\n",
        "plt.tick_params(labelsize=14)\n",
        "plt.gca().spines['right'].set_visible(False)\n",
        "plt.gca().spines['top'].set_visible(False)\n",
        "\n",
        "plt.tight_layout()\n",
        "plt.show()"
      ]
    },
    {
      "cell_type": "code",
      "source": [
        "cost_false_positive = 2\n",
        "cost_false_negative = 4\n",
        "\n",
        "x , y_train_tensor = ds.data.get_xy(train_dataset)\n",
        "x_np=x.numpy()\n",
        "x_train_df=pd.DataFrame.from_records(x_np)\n",
        "unique_elements, counts = torch.unique(y_train_tensor, return_counts=True)\n",
        "for i in range(unique_elements.size(0)):\n",
        "  if unique_elements[i]==0:\n",
        "    non_fault = counts[i]\n",
        "    break\n",
        "total = torch.sum(counts)\n",
        "\n",
        "x , y_val_tensor = ds.data.get_xy(val_dataset)\n",
        "x_np=x.numpy()\n",
        "x_cv_df=pd.DataFrame.from_records(x_np)\n",
        "unique_elements, counts = torch.unique(y_val_tensor, return_counts=True)\n",
        "for i in range(unique_elements.size(0)):\n",
        "  if unique_elements[i]==0:\n",
        "    non_fault += counts[i]\n",
        "total += torch.sum(counts)\n",
        "\n",
        "P_present = non_fault/total\n",
        "P_absent = 1 - P_present"
      ],
      "metadata": {
        "id": "WOFPd38-5xaR"
      },
      "id": "WOFPd38-5xaR",
      "execution_count": 14,
      "outputs": []
    },
    {
      "cell_type": "code",
      "source": [
        "# helper function to calculate probability of correctly giving signal when present\n",
        "def get_signal_present(prediction, ground_truth):\n",
        "    present_index = list()\n",
        "    for i in range(len(ground_truth)):\n",
        "        if ground_truth[i] == 0:\n",
        "            present_index.append(i)\n",
        "\n",
        "    counter = 0\n",
        "    for index in present_index:\n",
        "        if prediction[index] == 0:\n",
        "            counter += 1\n",
        "\n",
        "    return counter/len(present_index)\n",
        "\n",
        "# helper function to calculate probability of correctly giving signal when present\n",
        "# there should be a more generic way using operator module to merge this with the one above.\n",
        "def get_no_signal_absent(prediction, ground_truth):\n",
        "    absent_index = list()\n",
        "    for i in range(len(ground_truth)):\n",
        "        if ground_truth[i] != 0:\n",
        "            absent_index.append(i)\n",
        "\n",
        "    counter = 0\n",
        "    for index in absent_index:\n",
        "        if prediction[index] != 0:\n",
        "            counter += 1\n",
        "    return counter/len(absent_index)"
      ],
      "metadata": {
        "id": "Ei8rGXem5n1P"
      },
      "id": "Ei8rGXem5n1P",
      "execution_count": 15,
      "outputs": []
    },
    {
      "cell_type": "code",
      "source": [
        "def get_expected_cost(prediction,GT_tensor):\n",
        "  # get P(signal|present) and P(no signal|absent)\n",
        "    ground_truth = GT_tensor.tolist()\n",
        "    #prediction = prediction_t.tolist()\n",
        "    P_signal_present = get_signal_present(prediction, ground_truth)\n",
        "    P_no_signal_absent = get_no_signal_absent(prediction, ground_truth)\n",
        "    P_signal_absent = 1 - P_no_signal_absent\n",
        "    P_no_signal_present = 1 - P_signal_present\n",
        "\n",
        "  # get P(signal)\n",
        "    P_signal = P_present * P_signal_present + P_absent * P_signal_absent\n",
        "    P_no_signal = 1 - P_signal\n",
        "\n",
        "  # bayesian probability\n",
        "    P_absent_signal = (P_signal_absent * P_absent) / P_signal\n",
        "    P_present_signal = (P_signal_present * P_present) / P_signal\n",
        "    P_absent_no_signal = (P_no_signal_absent * P_absent) / P_no_signal\n",
        "    P_present_no_signal = (P_no_signal_present * P_present) / P_no_signal\n",
        "\n",
        "  #calculate the evoi\n",
        "    evoi = P_signal * min(cost_false_positive * P_absent_signal, cost_false_negative * P_present_signal) + P_no_signal * min(cost_false_positive * P_absent_no_signal, cost_false_negative * P_present_no_signal)\n",
        "\n",
        "    return evoi"
      ],
      "metadata": {
        "id": "jkB71ldR5gY8"
      },
      "id": "jkB71ldR5gY8",
      "execution_count": 16,
      "outputs": []
    },
    {
      "cell_type": "markdown",
      "id": "af1d7d6d-f061-445b-9d4f-537e1c143f47",
      "metadata": {
        "id": "af1d7d6d-f061-445b-9d4f-537e1c143f47"
      },
      "source": [
        "# Plot selections"
      ]
    },
    {
      "cell_type": "code",
      "execution_count": 17,
      "id": "e5f4b426-b5db-457f-9b52-3a6740422499",
      "metadata": {
        "id": "e5f4b426-b5db-457f-9b52-3a6740422499",
        "colab": {
          "base_uri": "https://localhost:8080/"
        },
        "outputId": "b2ee6be9-e964-4ef6-d62c-502f8edbf2ec"
      },
      "outputs": [
        {
          "output_type": "stream",
          "name": "stdout",
          "text": [
            "1\n",
            "\n",
            "['<BattSoc>']\n",
            "tensor(1.1884)\n",
            "2\n",
            "\n",
            "['<BattSoc>', '<ThrPosPct>']\n",
            "tensor(0.9838)\n",
            "3\n",
            "\n",
            "['<BattSoc>', '<ThrPosPct>', '<BattV>']\n",
            "tensor(0.9937)\n",
            "4\n",
            "\n",
            "['<BattSoc>', '<xdot>', '<BattV>', '<ThrPosPct>']\n",
            "tensor(1.0292)\n",
            "5\n",
            "\n",
            "['<BattSoc>', '<BattV>', '<xdot>', '<Cltch2State>', '<ThrPosPct>']\n",
            "tensor(1.0009)\n",
            "6\n",
            "\n",
            "['<BattV>', '<xdot>', '<BattSoc>', '<Cltch2State>', '<ThrPosPct>', 'Cltch1Cmd']\n",
            "tensor(1.0003)\n",
            "7\n",
            "\n",
            "['<xdot>', '<BattSoc>', '<Cltch2State>', '<BattV>', '<ThrPosPct>', 'Cltch1Cmd', 'TransGear']\n",
            "tensor(0.9176)\n",
            "8\n",
            "\n",
            "['<Cltch2State>', '<xdot>', '<BattSoc>', '<BattV>', '<ThrPosPct>', 'Cltch1Cmd', 'TransGear', 'IntkVlvLiftCmd']\n",
            "tensor(0.9328)\n",
            "9\n",
            "\n",
            "['<BattV>', '<xdot>', '<BattSoc>', '<Cltch2State>', '<ThrPosPct>', 'TransGear', 'Cltch1Cmd', '<IntkVlvLift>', 'IntkVlvLiftCmd']\n",
            "tensor(0.9266)\n",
            "10\n",
            "\n",
            "['<BattV>', '<xdot>', '<BattSoc>', '<Cltch2State>', '<ThrPosPct>', 'Cltch1Cmd', '<Chrg>', 'TransGear', '<IntkVlvLift>', 'IntkVlvLiftCmd']\n",
            "tensor(0.9433)\n",
            "11\n",
            "\n",
            "['<BattV>', '<xdot>', '<BattSoc>', '<Cltch2State>', 'Cltch1Cmd', '<Chrg>', '<ThrPosPct>', 'TransGear', 'IntkVlvLiftCmd', 'FuelMainSoi', '<IntkVlvLift>']\n",
            "tensor(0.9481)\n",
            "12\n",
            "\n",
            "['Cltch1Cmd', '<xdot>', '<BattV>', '<Cltch2State>', '<BattSoc>', '<Chrg>', '<ThrPosPct>', 'TransGear', 'FuelMainSoi', 'IntkVlvLiftCmd', '<IntkVlvLift>', '<Cltch1State>']\n",
            "tensor(0.9379)\n",
            "13\n",
            "\n",
            "['<Cltch2State>', '<BattV>', '<xdot>', '<BattSoc>', 'Cltch1Cmd', '<Chrg>', '<ThrPosPct>', 'TransGear', 'FuelMainSoi', 'IntkVlvLiftCmd', '<IntkVlvLift>', '<EngSpd>', '<Cltch1State>']\n",
            "tensor(0.9757)\n",
            "14\n",
            "\n",
            "['<Cltch2State>', '<BattV>', '<Chrg>', '<xdot>', '<BattSoc>', 'Cltch1Cmd', '<ThrPosPct>', 'TransGear', 'FuelMainSoi', 'IntkVlvLiftCmd', '<EngSpd>', '<IntkVlvLift>', '<Cltch1State>', 'MotTrqCmd']\n",
            "tensor(0.9347)\n",
            "15\n",
            "\n",
            "['<Cltch2State>', '<BattV>', '<Chrg>', '<xdot>', '<BattSoc>', 'Cltch1Cmd', '<ThrPosPct>', 'FuelMainSoi', 'TransGear', 'IntkVlvLiftCmd', '<EngSpd>', '<IntkVlvLift>', 'MotTrqCmd', '<Acc>', '<Cltch1State>']\n",
            "tensor(0.8939)\n",
            "16\n",
            "\n",
            "['<Cltch2State>', '<BattV>', '<xdot>', '<BattSoc>', '<Chrg>', 'Cltch1Cmd', '<ThrPosPct>', 'FuelMainSoi', 'TransGear', 'IntkVlvLiftCmd', '<EngSpd>', 'MotPwrMech:1', '<IntkVlvLift>', 'MotTrqCmd', '<Acc>', '<EgrVlvAreaPct>']\n",
            "tensor(0.8527)\n",
            "17\n",
            "\n",
            "['<BattV>', 'Cltch1Cmd', '<xdot>', '<Chrg>', '<BattSoc>', '<Cltch2State>', '<ThrPosPct>', 'FuelMainSoi', 'MotPwrMech:1', 'TransGear', '<Acc>', 'IntkVlvLiftCmd', '<EngSpd>', '<IntkVlvLift>', 'MotTrqCmd', '<EgrVlvAreaPct>', '<Cltch1State>']\n",
            "tensor(0.7544)\n",
            "18\n",
            "\n",
            "['<Acc>', '<BattSoc>', '<Chrg>', 'Cltch1Cmd', '<Cltch2State>', '<BattV>', '<xdot>', '<ThrPosPct>', 'FuelMainSoi', 'MotPwrMech:1', 'TransGear', 'IntkVlvLiftCmd', '<IntkVlvLift>', '<EngSpd>', 'MotTrqCmd', '<EgrVlvAreaPct>', '<Cltch1State>', '<WgAreaPct>']\n",
            "tensor(0.7408)\n",
            "19\n",
            "\n",
            "['<Acc>', '<BattSoc>', '<Chrg>', '<BattV>', '<Cltch2State>', 'Cltch1Cmd', '<xdot>', '<ThrPosPct>', 'FuelMainSoi', 'MotPwrMech:1', 'TransGear', 'MotTrqCmd', 'IntkVlvLiftCmd', '<IntkVlvLift>', '<EngSpd>', '<EgrVlvAreaPct>', '<VarCompRatioPos>', '<Cltch1State>', '<WgAreaPct>']\n",
            "tensor(0.7319)\n",
            "20\n",
            "\n",
            "['<Acc>', '<BattSoc>', '<Chrg>', '<BattV>', '<Cltch2State>', 'Cltch1Cmd', '<xdot>', '<ThrPosPct>', 'MotTrqCmd', 'FuelMainSoi', 'MotPwrMech:1', 'IntkVlvLiftCmd', 'TransGear', '<IntkVlvLift>', '<VarCompRatioPos>', '<EngSpd>', '<EgrVlvAreaPct>', '<Cltch1State>', '<WgAreaPct>', '<EngTrq>']\n",
            "tensor(0.7418)\n",
            "21\n",
            "\n",
            "['<Acc>', '<Cltch2State>', '<ThrPosPct>', '<Chrg>', 'Cltch1Cmd', '<BattV>', '<BattSoc>', '<xdot>', 'MotTrqCmd', 'IntkVlvLiftCmd', 'FuelMainSoi', 'MotPwrMech:1', '<VarCompRatioPos>', 'TransGear', '<IntkVlvLift>', '<EgrVlvAreaPct>', '<EngSpd>', '<Cltch1State>', 'VelocityRef:1', '<EngTrq>', '<WgAreaPct>']\n",
            "tensor(0.7472)\n",
            "22\n",
            "\n",
            "['<Acc>', '<Cltch2State>', '<ThrPosPct>', '<Chrg>', 'Cltch1Cmd', '<BattV>', '<BattSoc>', '<xdot>', 'MotTrqCmd', 'IntkVlvLiftCmd', 'FuelMainSoi', '<IntkVlvLift>', 'MotPwrMech:1', '<EngSpd>', '<EgrVlvAreaPct>', '<VarCompRatioPos>', 'TransGear', 'VelocityRef:1', '<Cltch1State>', '<IgSw>', '<EngTrq>', '<WgAreaPct>']\n",
            "tensor(0.7448)\n",
            "23\n",
            "\n",
            "['<Acc>', '<ThrPosPct>', 'IntkVlvLiftCmd', '<xdot>', '<BattSoc>', 'MotTrqCmd', '<Cltch2State>', '<BattV>', '<EgrVlvAreaPct>', 'Cltch1Cmd', '<Chrg>', 'FuelMainSoi', '<IntkVlvLift>', 'TransGear', 'MotPwrMech:1', '<VarCompRatioPos>', '<EngSpd>', '<IgSw>', 'VelocityRef:1', '<Cltch1State>', '<EngTrq>', '<WgAreaPct>', 'BattCrnt:1']\n",
            "tensor(0.7528)\n",
            "24\n",
            "\n",
            "['<Acc>', '<ThrPosPct>', 'IntkVlvLiftCmd', '<xdot>', '<BattSoc>', 'MotTrqCmd', '<Cltch2State>', '<BattV>', '<EgrVlvAreaPct>', 'Cltch1Cmd', 'FuelMainSoi', '<Chrg>', 'TransGear', 'MotPwrMech:1', '<VarCompRatioPos>', '<IntkVlvLift>', '<EngSpd>', '<IgSw>', 'VelocityRef:1', '<Cltch1State>', '<MotTrq>', '<EngTrq>', 'BattCrnt:1', '<WgAreaPct>']\n",
            "tensor(0.7392)\n"
          ]
        }
      ],
      "source": [
        "# Generate selections for entire test set.\n",
        "num_features = range(1, 25)\n",
        "p_list = []\n",
        "\n",
        "for num in num_features:\n",
        "  print(str(num)+'\\n')\n",
        "  x, y = ds.data.get_xy(test_dataset)\n",
        "  x_np=x.numpy()\n",
        "  x_test_df=pd.DataFrame(x_np)\n",
        "  pred1, x_masked, m = gdfs(x.cuda(), max_features=num)\n",
        "  pred=(pred1.cpu()).detach().numpy()\n",
        "  pred = np.argmax(pred, axis=-1)\n",
        "  p = m.mean(dim=0)\n",
        "  p_list.append(p.cpu().numpy())\n",
        "\n",
        "  sensors_index=np.array(p_list)\n",
        "  sorted_indices = np.flip(np.argsort(sensors_index))\n",
        "  sensors=[]\n",
        "  for i in range(0,num):\n",
        "    sensors = np.append(sensors, dataset.features[sorted_indices[0][i]])\n",
        "  sensors=sensors.tolist()\n",
        "  print(sensors)\n",
        "  base_indices=sorted_indices[0][num:].tolist()\n",
        "  sorted_indices=sorted_indices[0][0:num].tolist()\n",
        "  print(get_expected_cost(pred,y))\n"
      ]
    }
  ],
  "metadata": {
    "kernelspec": {
      "display_name": "Python 3",
      "name": "python3"
    },
    "language_info": {
      "codemirror_mode": {
        "name": "ipython",
        "version": 3
      },
      "file_extension": ".py",
      "mimetype": "text/x-python",
      "name": "python",
      "nbconvert_exporter": "python",
      "pygments_lexer": "ipython3",
      "version": "3.10.4"
    },
    "colab": {
      "provenance": [],
      "gpuType": "T4",
      "machine_shape": "hm"
    },
    "accelerator": "GPU"
  },
  "nbformat": 4,
  "nbformat_minor": 5
}